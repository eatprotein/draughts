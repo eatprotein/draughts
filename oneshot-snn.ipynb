{
 "cells": [
  {
   "cell_type": "markdown",
   "id": "f7ceadbf",
   "metadata": {
    "execution": {
     "iopub.execute_input": "2023-06-12T05:37:06.654551Z",
     "iopub.status.busy": "2023-06-12T05:37:06.653922Z",
     "iopub.status.idle": "2023-06-12T05:37:06.670500Z",
     "shell.execute_reply": "2023-06-12T05:37:06.669192Z",
     "shell.execute_reply.started": "2023-06-12T05:37:06.654525Z"
    },
    "id": "VoKFvyB-Sxvy",
    "papermill": {
     "duration": 0.010251,
     "end_time": "2023-06-12T06:00:02.945155",
     "exception": false,
     "start_time": "2023-06-12T06:00:02.934904",
     "status": "completed"
    },
    "tags": []
   },
   "source": [
    "## Install PyGeNN wheel from Google Drive\n",
    "Download wheel file"
   ]
  },
  {
   "cell_type": "code",
   "execution_count": 1,
   "id": "16b7c47c",
   "metadata": {
    "execution": {
     "iopub.execute_input": "2023-06-12T06:00:02.966647Z",
     "iopub.status.busy": "2023-06-12T06:00:02.966221Z",
     "iopub.status.idle": "2023-06-12T06:00:15.055428Z",
     "shell.execute_reply": "2023-06-12T06:00:15.053809Z"
    },
    "papermill": {
     "duration": 12.102554,
     "end_time": "2023-06-12T06:00:15.057688",
     "exception": false,
     "start_time": "2023-06-12T06:00:02.955134",
     "status": "completed"
    },
    "tags": []
   },
   "outputs": [
    {
     "name": "stdout",
     "output_type": "stream",
     "text": [
      "Collecting gdown\r\n",
      "  Downloading gdown-4.7.1-py3-none-any.whl (15 kB)\r\n",
      "Requirement already satisfied: filelock in /opt/conda/lib/python3.10/site-packages (from gdown) (3.12.0)\r\n",
      "Requirement already satisfied: requests[socks] in /opt/conda/lib/python3.10/site-packages (from gdown) (2.28.2)\r\n",
      "Requirement already satisfied: six in /opt/conda/lib/python3.10/site-packages (from gdown) (1.16.0)\r\n",
      "Requirement already satisfied: tqdm in /opt/conda/lib/python3.10/site-packages (from gdown) (4.64.1)\r\n",
      "Requirement already satisfied: beautifulsoup4 in /opt/conda/lib/python3.10/site-packages (from gdown) (4.12.2)\r\n",
      "Requirement already satisfied: soupsieve>1.2 in /opt/conda/lib/python3.10/site-packages (from beautifulsoup4->gdown) (2.3.2.post1)\r\n",
      "Requirement already satisfied: charset-normalizer<4,>=2 in /opt/conda/lib/python3.10/site-packages (from requests[socks]->gdown) (2.1.1)\r\n",
      "Requirement already satisfied: idna<4,>=2.5 in /opt/conda/lib/python3.10/site-packages (from requests[socks]->gdown) (3.4)\r\n",
      "Requirement already satisfied: urllib3<1.27,>=1.21.1 in /opt/conda/lib/python3.10/site-packages (from requests[socks]->gdown) (1.26.15)\r\n",
      "Requirement already satisfied: certifi>=2017.4.17 in /opt/conda/lib/python3.10/site-packages (from requests[socks]->gdown) (2023.5.7)\r\n",
      "Requirement already satisfied: PySocks!=1.5.7,>=1.5.6 in /opt/conda/lib/python3.10/site-packages (from requests[socks]->gdown) (1.7.1)\r\n",
      "Installing collected packages: gdown\r\n",
      "Successfully installed gdown-4.7.1\r\n",
      "\u001b[33mWARNING: Running pip as the 'root' user can result in broken permissions and conflicting behaviour with the system package manager. It is recommended to use a virtual environment instead: https://pip.pypa.io/warnings/venv\u001b[0m\u001b[33m\r\n",
      "\u001b[0mNote: you may need to restart the kernel to use updated packages.\n"
     ]
    }
   ],
   "source": [
    "pip install gdown"
   ]
  },
  {
   "cell_type": "code",
   "execution_count": 2,
   "id": "c7ef6e5c",
   "metadata": {
    "execution": {
     "iopub.execute_input": "2023-06-12T06:00:15.079698Z",
     "iopub.status.busy": "2023-06-12T06:00:15.079367Z",
     "iopub.status.idle": "2023-06-12T06:00:40.953174Z",
     "shell.execute_reply": "2023-06-12T06:00:40.952122Z"
    },
    "papermill": {
     "duration": 25.888796,
     "end_time": "2023-06-12T06:00:40.956886",
     "exception": false,
     "start_time": "2023-06-12T06:00:15.068090",
     "status": "completed"
    },
    "tags": []
   },
   "outputs": [
    {
     "name": "stderr",
     "output_type": "stream",
     "text": [
      "Downloading...\n",
      "From: https://drive.google.com/uc?id=1fllqUtL_1_tyGzjNHSR-9i5fXFI9jqAi\n",
      "To: /kaggle/working/pygenn-4.8.1-cp310-cp310-linux_x86_64.whl\n",
      "100%|██████████| 22.3M/22.3M [00:00<00:00, 36.3MB/s]\n"
     ]
    },
    {
     "data": {
      "text/plain": [
       "'pygenn-4.8.1-cp310-cp310-linux_x86_64.whl'"
      ]
     },
     "execution_count": 2,
     "metadata": {},
     "output_type": "execute_result"
    }
   ],
   "source": [
    "import gdown\n",
    "\n",
    "url = 'https://drive.google.com/uc?id=1fllqUtL_1_tyGzjNHSR-9i5fXFI9jqAi'\n",
    "\n",
    "output = 'pygenn-4.8.1-cp310-cp310-linux_x86_64.whl'\n",
    "\n",
    "gdown.download(url, output, quiet=False)"
   ]
  },
  {
   "cell_type": "code",
   "execution_count": 3,
   "id": "63edf26a",
   "metadata": {
    "execution": {
     "iopub.execute_input": "2023-06-12T06:00:40.980614Z",
     "iopub.status.busy": "2023-06-12T06:00:40.979765Z",
     "iopub.status.idle": "2023-06-12T06:00:40.984074Z",
     "shell.execute_reply": "2023-06-12T06:00:40.983118Z"
    },
    "executionInfo": {
     "elapsed": 18261,
     "status": "ok",
     "timestamp": 1686479779044,
     "user": {
      "displayName": "xy fu",
      "userId": "08788996763556351037"
     },
     "user_tz": -480
    },
    "id": "D6-75Qp_SxNM",
    "outputId": "399a3d71-d5a0-4b0d-8ae7-8187700a42b2",
    "papermill": {
     "duration": 0.018096,
     "end_time": "2023-06-12T06:00:40.986069",
     "exception": false,
     "start_time": "2023-06-12T06:00:40.967973",
     "status": "completed"
    },
    "tags": []
   },
   "outputs": [],
   "source": [
    "# !gdown  https://drive.google.com/uc?id=1fllqUtL_1_tyGzjNHSR-9i5fXFI9jqAi"
   ]
  },
  {
   "cell_type": "markdown",
   "id": "46279145",
   "metadata": {
    "id": "nvxKjPZFhI5m",
    "papermill": {
     "duration": 0.01055,
     "end_time": "2023-06-12T06:00:41.007441",
     "exception": false,
     "start_time": "2023-06-12T06:00:40.996891",
     "status": "completed"
    },
    "tags": []
   },
   "source": [
    "and then install PyGeNN from wheel file"
   ]
  },
  {
   "cell_type": "code",
   "execution_count": 4,
   "id": "5f673186",
   "metadata": {
    "execution": {
     "iopub.execute_input": "2023-06-12T06:00:41.031025Z",
     "iopub.status.busy": "2023-06-12T06:00:41.030311Z",
     "iopub.status.idle": "2023-06-12T06:00:52.378561Z",
     "shell.execute_reply": "2023-06-12T06:00:52.377330Z"
    },
    "executionInfo": {
     "elapsed": 3707,
     "status": "ok",
     "timestamp": 1686479782747,
     "user": {
      "displayName": "xy fu",
      "userId": "08788996763556351037"
     },
     "user_tz": -480
    },
    "id": "xcUDzEHrhF-I",
    "outputId": "da08d6b6-42f3-46a1-f6cf-cbce847d0cbd",
    "papermill": {
     "duration": 11.36218,
     "end_time": "2023-06-12T06:00:52.380805",
     "exception": false,
     "start_time": "2023-06-12T06:00:41.018625",
     "status": "completed"
    },
    "tags": []
   },
   "outputs": [
    {
     "name": "stdout",
     "output_type": "stream",
     "text": [
      "Processing ./pygenn-4.8.1-cp310-cp310-linux_x86_64.whl\r\n",
      "Requirement already satisfied: numpy>=1.17 in /opt/conda/lib/python3.10/site-packages (from pygenn==4.8.1) (1.23.5)\r\n",
      "Requirement already satisfied: six in /opt/conda/lib/python3.10/site-packages (from pygenn==4.8.1) (1.16.0)\r\n",
      "Requirement already satisfied: deprecated in /opt/conda/lib/python3.10/site-packages (from pygenn==4.8.1) (1.2.13)\r\n",
      "Requirement already satisfied: psutil in /opt/conda/lib/python3.10/site-packages (from pygenn==4.8.1) (5.9.3)\r\n",
      "Requirement already satisfied: wrapt<2,>=1.10 in /opt/conda/lib/python3.10/site-packages (from deprecated->pygenn==4.8.1) (1.14.1)\r\n",
      "Installing collected packages: pygenn\r\n",
      "Successfully installed pygenn-4.8.1\r\n",
      "\u001b[33mWARNING: Running pip as the 'root' user can result in broken permissions and conflicting behaviour with the system package manager. It is recommended to use a virtual environment instead: https://pip.pypa.io/warnings/venv\u001b[0m\u001b[33m\r\n",
      "\u001b[0mNote: you may need to restart the kernel to use updated packages.\n"
     ]
    }
   ],
   "source": [
    "pip install pygenn-4.8.1-cp310-cp310-linux_x86_64.whl"
   ]
  },
  {
   "cell_type": "markdown",
   "id": "bba6e59a",
   "metadata": {
    "id": "tyvGBCg5rIuM",
    "papermill": {
     "duration": 0.010961,
     "end_time": "2023-06-12T06:00:52.403284",
     "exception": false,
     "start_time": "2023-06-12T06:00:52.392323",
     "status": "completed"
    },
    "tags": []
   },
   "source": [
    "and checkout mlGeNN from git and install"
   ]
  },
  {
   "cell_type": "code",
   "execution_count": 5,
   "id": "fa29e7fb",
   "metadata": {
    "execution": {
     "iopub.execute_input": "2023-06-12T06:00:52.427320Z",
     "iopub.status.busy": "2023-06-12T06:00:52.427005Z",
     "iopub.status.idle": "2023-06-12T06:01:13.440946Z",
     "shell.execute_reply": "2023-06-12T06:01:13.439559Z"
    },
    "executionInfo": {
     "elapsed": 10376,
     "status": "ok",
     "timestamp": 1686479793118,
     "user": {
      "displayName": "xy fu",
      "userId": "08788996763556351037"
     },
     "user_tz": -480
    },
    "id": "tEpYAq5kq3SF",
    "outputId": "6a9e39cd-a041-4831-e60c-fa697b34b891",
    "papermill": {
     "duration": 21.028772,
     "end_time": "2023-06-12T06:01:13.443222",
     "exception": false,
     "start_time": "2023-06-12T06:00:52.414450",
     "status": "completed"
    },
    "tags": []
   },
   "outputs": [
    {
     "name": "stdout",
     "output_type": "stream",
     "text": [
      "Cloning into 'ml_genn'...\r\n",
      "remote: Enumerating objects: 6790, done.\u001b[K\r\n",
      "remote: Counting objects: 100% (2607/2607), done.\u001b[K\r\n",
      "remote: Compressing objects: 100% (990/990), done.\u001b[K\r\n",
      "remote: Total 6790 (delta 1626), reused 2492 (delta 1590), pack-reused 4183\u001b[K\r\n",
      "Receiving objects: 100% (6790/6790), 37.13 MiB | 20.14 MiB/s, done.\r\n",
      "Resolving deltas: 100% (4471/4471), done.\r\n",
      "/kaggle/working/ml_genn\n",
      "Note: switching to '983400ba'.\r\n",
      "\r\n",
      "You are in 'detached HEAD' state. You can look around, make experimental\r\n",
      "changes and commit them, and you can discard any commits you make in this\r\n",
      "state without impacting any branches by switching back to a branch.\r\n",
      "\r\n",
      "If you want to create a new branch to retain commits you create, you may\r\n",
      "do so (now or later) by using -c with the switch command. Example:\r\n",
      "\r\n",
      "  git switch -c <new-branch-name>\r\n",
      "\r\n",
      "Or undo this operation with:\r\n",
      "\r\n",
      "  git switch -\r\n",
      "\r\n",
      "Turn off this advice by setting config variable advice.detachedHead to false\r\n",
      "\r\n",
      "HEAD is now at 983400b softmax is required for eprop validation split\r\n",
      "Processing ./ml_genn\r\n",
      "  Preparing metadata (setup.py) ... \u001b[?25l-\b \b\\\b \bdone\r\n",
      "\u001b[?25hRequirement already satisfied: pygenn>=4.8.1 in /opt/conda/lib/python3.10/site-packages (from ml-genn==2.0.0) (4.8.1)\r\n",
      "Collecting enum-compat (from ml-genn==2.0.0)\r\n",
      "  Downloading enum_compat-0.0.3-py3-none-any.whl (1.3 kB)\r\n",
      "Requirement already satisfied: tqdm>=4.27.0 in /opt/conda/lib/python3.10/site-packages (from ml-genn==2.0.0) (4.64.1)\r\n",
      "Requirement already satisfied: deprecated in /opt/conda/lib/python3.10/site-packages (from ml-genn==2.0.0) (1.2.13)\r\n",
      "Requirement already satisfied: numpy>=1.17 in /opt/conda/lib/python3.10/site-packages (from pygenn>=4.8.1->ml-genn==2.0.0) (1.23.5)\r\n",
      "Requirement already satisfied: six in /opt/conda/lib/python3.10/site-packages (from pygenn>=4.8.1->ml-genn==2.0.0) (1.16.0)\r\n",
      "Requirement already satisfied: psutil in /opt/conda/lib/python3.10/site-packages (from pygenn>=4.8.1->ml-genn==2.0.0) (5.9.3)\r\n",
      "Requirement already satisfied: wrapt<2,>=1.10 in /opt/conda/lib/python3.10/site-packages (from deprecated->ml-genn==2.0.0) (1.14.1)\r\n",
      "Building wheels for collected packages: ml-genn\r\n",
      "  Building wheel for ml-genn (setup.py) ... \u001b[?25l-\b \b\\\b \b|\b \bdone\r\n",
      "\u001b[?25h  Created wheel for ml-genn: filename=ml_genn-2.0.0-py3-none-any.whl size=98347 sha256=e82c3f02b5dc5cfc06d3e18375b89fc16836dbe9da09be16c4f9078ffab8a476\r\n",
      "  Stored in directory: /tmp/pip-ephem-wheel-cache-0fqyfd63/wheels/5e/00/79/9084c5caeb3408e827f59ba46d346351116c8818bfdedba8db\r\n",
      "Successfully built ml-genn\r\n",
      "Installing collected packages: enum-compat, ml-genn\r\n",
      "Successfully installed enum-compat-0.0.3 ml-genn-2.0.0\r\n",
      "\u001b[33mWARNING: Running pip as the 'root' user can result in broken permissions and conflicting behaviour with the system package manager. It is recommended to use a virtual environment instead: https://pip.pypa.io/warnings/venv\u001b[0m\u001b[33m\r\n",
      "\u001b[0m/kaggle/working\n",
      "popd -> /kaggle/working\n"
     ]
    }
   ],
   "source": [
    "!git clone https://github.com/genn-team/ml_genn.git\n",
    "%pushd ml_genn\n",
    "!git checkout 983400ba\n",
    "!pip install ./ml_genn\n",
    "%popd"
   ]
  },
  {
   "cell_type": "markdown",
   "id": "538f37ed",
   "metadata": {
    "id": "cAm5bzGvAb17",
    "papermill": {
     "duration": 0.013758,
     "end_time": "2023-06-12T06:01:13.471111",
     "exception": false,
     "start_time": "2023-06-12T06:01:13.457353",
     "status": "completed"
    },
    "tags": []
   },
   "source": [
    "Set environment variable to allow GeNN to find CUDA"
   ]
  },
  {
   "cell_type": "code",
   "execution_count": 6,
   "id": "55e1e019",
   "metadata": {
    "execution": {
     "iopub.execute_input": "2023-06-12T06:01:13.500870Z",
     "iopub.status.busy": "2023-06-12T06:01:13.499913Z",
     "iopub.status.idle": "2023-06-12T06:01:13.506611Z",
     "shell.execute_reply": "2023-06-12T06:01:13.505501Z"
    },
    "executionInfo": {
     "elapsed": 6,
     "status": "ok",
     "timestamp": 1686479793118,
     "user": {
      "displayName": "xy fu",
      "userId": "08788996763556351037"
     },
     "user_tz": -480
    },
    "id": "cIzSgI5Q8Wvq",
    "outputId": "d8c5cf8d-a4ce-45e9-a8b6-5dec84677674",
    "papermill": {
     "duration": 0.023861,
     "end_time": "2023-06-12T06:01:13.508743",
     "exception": false,
     "start_time": "2023-06-12T06:01:13.484882",
     "status": "completed"
    },
    "tags": []
   },
   "outputs": [
    {
     "name": "stdout",
     "output_type": "stream",
     "text": [
      "env: CUDA_PATH=/usr/local/cuda\n"
     ]
    }
   ],
   "source": [
    "%env CUDA_PATH=/usr/local/cuda"
   ]
  },
  {
   "cell_type": "markdown",
   "id": "7b204686",
   "metadata": {
    "id": "LTbQVzejhc53",
    "papermill": {
     "duration": 0.01349,
     "end_time": "2023-06-12T06:01:13.535907",
     "exception": false,
     "start_time": "2023-06-12T06:01:13.522417",
     "status": "completed"
    },
    "tags": []
   },
   "source": [
    "## Load oneshot classification data from Onimiglot"
   ]
  },
  {
   "cell_type": "code",
   "execution_count": 7,
   "id": "551ca591",
   "metadata": {
    "execution": {
     "iopub.execute_input": "2023-06-12T06:01:13.565554Z",
     "iopub.status.busy": "2023-06-12T06:01:13.564601Z",
     "iopub.status.idle": "2023-06-12T06:01:13.569338Z",
     "shell.execute_reply": "2023-06-12T06:01:13.568488Z"
    },
    "executionInfo": {
     "elapsed": 22,
     "status": "ok",
     "timestamp": 1686479812857,
     "user": {
      "displayName": "xy fu",
      "userId": "08788996763556351037"
     },
     "user_tz": -480
    },
    "id": "peeC5Y_rS5oU",
    "papermill": {
     "duration": 0.021364,
     "end_time": "2023-06-12T06:01:13.571173",
     "exception": false,
     "start_time": "2023-06-12T06:01:13.549809",
     "status": "completed"
    },
    "tags": []
   },
   "outputs": [],
   "source": [
    "data_url = '/kaggle/input/one-shot-classification'"
   ]
  },
  {
   "cell_type": "markdown",
   "id": "87cb00fb",
   "metadata": {
    "id": "HvYXb8UTR0x1",
    "papermill": {
     "duration": 0.013513,
     "end_time": "2023-06-12T06:01:13.598697",
     "exception": false,
     "start_time": "2023-06-12T06:01:13.585184",
     "status": "completed"
    },
    "tags": []
   },
   "source": [
    "## Process data"
   ]
  },
  {
   "cell_type": "code",
   "execution_count": 8,
   "id": "3c206b11",
   "metadata": {
    "execution": {
     "iopub.execute_input": "2023-06-12T06:01:13.627917Z",
     "iopub.status.busy": "2023-06-12T06:01:13.627114Z",
     "iopub.status.idle": "2023-06-12T06:01:13.751175Z",
     "shell.execute_reply": "2023-06-12T06:01:13.750195Z"
    },
    "executionInfo": {
     "elapsed": 21,
     "status": "ok",
     "timestamp": 1686479812858,
     "user": {
      "displayName": "xy fu",
      "userId": "08788996763556351037"
     },
     "user_tz": -480
    },
    "id": "agqWFZjickfU",
    "papermill": {
     "duration": 0.141282,
     "end_time": "2023-06-12T06:01:13.753653",
     "exception": false,
     "start_time": "2023-06-12T06:01:13.612371",
     "status": "completed"
    },
    "tags": []
   },
   "outputs": [],
   "source": [
    "import numpy as np\n",
    "import matplotlib.pyplot as plt\n",
    "\n",
    "from ml_genn import InputLayer, Layer, SequentialNetwork\n",
    "from ml_genn.callbacks import Checkpoint\n",
    "from ml_genn.compilers import EventPropCompiler, InferenceCompiler\n",
    "from ml_genn.connectivity import Dense\n",
    "from ml_genn.initializers import Normal\n",
    "from ml_genn.neurons import LeakyIntegrate, LeakyIntegrateFire, SpikeInput\n",
    "from ml_genn.optimisers import Adam\n",
    "from ml_genn.serialisers import Numpy\n",
    "from ml_genn.synapses import Exponential\n",
    "\n",
    "from ml_genn.utils.data import (calc_latest_spike_time, linear_latency_encode_data)\n",
    "\n",
    "from ml_genn.compilers.event_prop_compiler import default_params"
   ]
  },
  {
   "cell_type": "code",
   "execution_count": 9,
   "id": "29baaf29",
   "metadata": {
    "execution": {
     "iopub.execute_input": "2023-06-12T06:01:13.783990Z",
     "iopub.status.busy": "2023-06-12T06:01:13.783139Z",
     "iopub.status.idle": "2023-06-12T06:01:13.788668Z",
     "shell.execute_reply": "2023-06-12T06:01:13.787821Z"
    },
    "executionInfo": {
     "elapsed": 19,
     "status": "ok",
     "timestamp": 1686479812858,
     "user": {
      "displayName": "xy fu",
      "userId": "08788996763556351037"
     },
     "user_tz": -480
    },
    "id": "CDjPGz6HRDyK",
    "papermill": {
     "duration": 0.02286,
     "end_time": "2023-06-12T06:01:13.790830",
     "exception": false,
     "start_time": "2023-06-12T06:01:13.767970",
     "status": "completed"
    },
    "tags": []
   },
   "outputs": [],
   "source": [
    "# from PIL import Image\n",
    "# import os\n",
    "\n",
    "# def load_images(path):\n",
    "#   # Lists to store the images and labels\n",
    "#   train_images, train_labels, test_images, test_labels = [], [], [], []\n",
    "  \n",
    "#   # List of all directories\n",
    "#   dir_list = os.listdir(path)\n",
    "  \n",
    "#   # For each directory\n",
    "#   for dir in dir_list:\n",
    "#     # Load the mapping of test images to class labels\n",
    "#     with open(path + '/' + dir + '/class_labels.txt', 'r') as f:\n",
    "#         labels_map = {line.split()[0]: line.split()[1] for line in f.readlines()}\n",
    "#     print(labels_map)\n",
    "#     # Load and preprocess the training images\n",
    "#     train_list = os.listdir(path + '/' + dir + '/training')\n",
    "#     print(train_list)\n",
    "#     for img_name in train_list:\n",
    "#       image = Image.open(path + '/' + dir + '/training/' + img_name)\n",
    "#       image = image.resize((28, 28))\n",
    "#       image = np.array(image) / 255.0\n",
    "#       train_images.append(image)\n",
    "#       # print(train_images)\n",
    "#       train_labels.append(img_name)  # The image name is the class label\n",
    "    \n",
    "#     # Load and preprocess the test images\n",
    "#     test_list = os.listdir(path + '/' + dir + '/test')\n",
    "#     for img_name in test_list:\n",
    "#       image = Image.open(path + '/' + dir + '/test/' + img_name)\n",
    "#       image = image.resize((28, 28))\n",
    "#       image = np.array(image) / 255.0\n",
    "#       test_images.append(image)\n",
    "#       test_labels.append(labels_map[dir + '/test/' + img_name])  # Look up the class label in the labels map with the correct key\n",
    "\n",
    "#   # Convert the lists to numpy arrays\n",
    "#   train_images = np.array(train_images)\n",
    "#   train_labels = np.array(train_labels)\n",
    "#   test_images = np.array(test_images)\n",
    "#   test_labels = np.array(test_labels)\n",
    "\n",
    "#   return train_images, train_labels, test_images, test_labels\n"
   ]
  },
  {
   "cell_type": "code",
   "execution_count": 10,
   "id": "3ffe0d96",
   "metadata": {
    "execution": {
     "iopub.execute_input": "2023-06-12T06:01:13.819750Z",
     "iopub.status.busy": "2023-06-12T06:01:13.818989Z",
     "iopub.status.idle": "2023-06-12T06:01:13.823246Z",
     "shell.execute_reply": "2023-06-12T06:01:13.822409Z"
    },
    "papermill": {
     "duration": 0.020649,
     "end_time": "2023-06-12T06:01:13.825204",
     "exception": false,
     "start_time": "2023-06-12T06:01:13.804555",
     "status": "completed"
    },
    "tags": []
   },
   "outputs": [],
   "source": [
    "# train_images, train_labels, test_images, test_labels = load_images(data_url)"
   ]
  },
  {
   "cell_type": "code",
   "execution_count": 11,
   "id": "f9b3a118",
   "metadata": {
    "execution": {
     "iopub.execute_input": "2023-06-12T06:01:13.854448Z",
     "iopub.status.busy": "2023-06-12T06:01:13.853727Z",
     "iopub.status.idle": "2023-06-12T06:01:13.858113Z",
     "shell.execute_reply": "2023-06-12T06:01:13.857305Z"
    },
    "executionInfo": {
     "elapsed": 18,
     "status": "ok",
     "timestamp": 1686479812859,
     "user": {
      "displayName": "xy fu",
      "userId": "08788996763556351037"
     },
     "user_tz": -480
    },
    "id": "dUkZnR4afT0o",
    "papermill": {
     "duration": 0.021042,
     "end_time": "2023-06-12T06:01:13.860012",
     "exception": false,
     "start_time": "2023-06-12T06:01:13.838970",
     "status": "completed"
    },
    "tags": []
   },
   "outputs": [],
   "source": [
    "# # Create a dictionary that maps class labels to integers\n",
    "# class_to_int1 = {k: v for v, k in enumerate(np.unique(train_labels))}\n",
    "# class_to_int2 = {k: v for v, k in enumerate(np.unique(test_labels))}\n",
    "# # Convert your train and test labels to integers\n",
    "# train_labels_int = np.array([class_to_int1[label] for label in train_labels])\n",
    "# test_labels_int = np.array([class_to_int2[label] for label in test_labels])\n"
   ]
  },
  {
   "cell_type": "code",
   "execution_count": 12,
   "id": "5764fecc",
   "metadata": {
    "execution": {
     "iopub.execute_input": "2023-06-12T06:01:13.890293Z",
     "iopub.status.busy": "2023-06-12T06:01:13.888597Z",
     "iopub.status.idle": "2023-06-12T06:01:13.893447Z",
     "shell.execute_reply": "2023-06-12T06:01:13.892606Z"
    },
    "executionInfo": {
     "elapsed": 2,
     "status": "ok",
     "timestamp": 1686479845868,
     "user": {
      "displayName": "xy fu",
      "userId": "08788996763556351037"
     },
     "user_tz": -480
    },
    "id": "BcIrmFfRCCld",
    "papermill": {
     "duration": 0.021711,
     "end_time": "2023-06-12T06:01:13.895389",
     "exception": false,
     "start_time": "2023-06-12T06:01:13.873678",
     "status": "completed"
    },
    "tags": []
   },
   "outputs": [],
   "source": [
    "dir_path = '/kaggle/input/oneshotprocesseddata/'"
   ]
  },
  {
   "cell_type": "code",
   "execution_count": 13,
   "id": "aba3adc3",
   "metadata": {
    "execution": {
     "iopub.execute_input": "2023-06-12T06:01:13.924829Z",
     "iopub.status.busy": "2023-06-12T06:01:13.924007Z",
     "iopub.status.idle": "2023-06-12T06:01:13.928455Z",
     "shell.execute_reply": "2023-06-12T06:01:13.927650Z"
    },
    "executionInfo": {
     "elapsed": 18,
     "status": "ok",
     "timestamp": 1686479812860,
     "user": {
      "displayName": "xy fu",
      "userId": "08788996763556351037"
     },
     "user_tz": -480
    },
    "id": "HMIrDXKvb8Ba",
    "papermill": {
     "duration": 0.021096,
     "end_time": "2023-06-12T06:01:13.930367",
     "exception": false,
     "start_time": "2023-06-12T06:01:13.909271",
     "status": "completed"
    },
    "tags": []
   },
   "outputs": [],
   "source": [
    "\n",
    "# np.save(dir_path +'' +'train_images.npy', train_images)\n",
    "# np.save(dir_path + 'train_labels.npy', train_labels)\n",
    "# np.save(dir_path + 'test_images.npy', test_images)\n",
    "# np.save(dir_path + 'test_labels.npy', test_labels)\n",
    "\n",
    "# np.save(dir_path + 'train_labels_int.npy', train_labels_int)\n",
    "# np.save(dir_path + 'test_labels_int.npy', test_labels_int)\n"
   ]
  },
  {
   "cell_type": "code",
   "execution_count": 14,
   "id": "009f9136",
   "metadata": {
    "execution": {
     "iopub.execute_input": "2023-06-12T06:01:13.959231Z",
     "iopub.status.busy": "2023-06-12T06:01:13.958454Z",
     "iopub.status.idle": "2023-06-12T06:01:14.027441Z",
     "shell.execute_reply": "2023-06-12T06:01:14.026485Z"
    },
    "executionInfo": {
     "elapsed": 1349,
     "status": "ok",
     "timestamp": 1686479850280,
     "user": {
      "displayName": "xy fu",
      "userId": "08788996763556351037"
     },
     "user_tz": -480
    },
    "id": "VJ8eIXHMc4Nb",
    "papermill": {
     "duration": 0.08571,
     "end_time": "2023-06-12T06:01:14.029673",
     "exception": false,
     "start_time": "2023-06-12T06:01:13.943963",
     "status": "completed"
    },
    "tags": []
   },
   "outputs": [],
   "source": [
    "train_images = np.load(dir_path +'v1-processedData'+'train_images.npy')\n",
    "train_labels = np.load(dir_path +'v1-processedData'+'train_labels.npy')\n",
    "train_labels_int = np.load(dir_path +'v1-processedData'+'train_labels_int.npy')\n",
    "test_images = np.load(dir_path+'v1-processedData' +'test_images.npy')\n",
    "test_labels_int = np.load(dir_path +'v1-processedData'+'test_labels.npy')\n",
    "train_labels = np.load(dir_path +'v1-processedData'+'train_labels_int.npy')"
   ]
  },
  {
   "cell_type": "markdown",
   "id": "65a703bc",
   "metadata": {
    "id": "ojCqyc2zdaKU",
    "papermill": {
     "duration": 0.013523,
     "end_time": "2023-06-12T06:01:14.057331",
     "exception": false,
     "start_time": "2023-06-12T06:01:14.043808",
     "status": "completed"
    },
    "tags": []
   },
   "source": [
    "# Build modle"
   ]
  },
  {
   "cell_type": "markdown",
   "id": "5c55f0e4",
   "metadata": {
    "id": "X2hcCpdlzaZA",
    "papermill": {
     "duration": 0.013475,
     "end_time": "2023-06-12T06:01:14.084594",
     "exception": false,
     "start_time": "2023-06-12T06:01:14.071119",
     "status": "completed"
    },
    "tags": []
   },
   "source": [
    "\n",
    "##Parameters\n",
    "\n",
    "Define some model parameters\n"
   ]
  },
  {
   "cell_type": "code",
   "execution_count": 15,
   "id": "4a128676",
   "metadata": {
    "execution": {
     "iopub.execute_input": "2023-06-12T06:01:14.113823Z",
     "iopub.status.busy": "2023-06-12T06:01:14.112939Z",
     "iopub.status.idle": "2023-06-12T06:01:14.117924Z",
     "shell.execute_reply": "2023-06-12T06:01:14.117031Z"
    },
    "executionInfo": {
     "elapsed": 302,
     "status": "ok",
     "timestamp": 1686479864589,
     "user": {
      "displayName": "xy fu",
      "userId": "08788996763556351037"
     },
     "user_tz": -480
    },
    "id": "x87G22iUzcEU",
    "papermill": {
     "duration": 0.021594,
     "end_time": "2023-06-12T06:01:14.119908",
     "exception": false,
     "start_time": "2023-06-12T06:01:14.098314",
     "status": "completed"
    },
    "tags": []
   },
   "outputs": [],
   "source": [
    "NUM_INPUT = 28 * 28\n",
    "NUM_HIDDEN = 128\n",
    "NUM_OUTPUT = 20\n",
    "BATCH_SIZE = 128"
   ]
  },
  {
   "cell_type": "markdown",
   "id": "b27f40b2",
   "metadata": {
    "id": "op6AInYzviqh",
    "papermill": {
     "duration": 0.013513,
     "end_time": "2023-06-12T06:01:14.146988",
     "exception": false,
     "start_time": "2023-06-12T06:01:14.133475",
     "status": "completed"
    },
    "tags": []
   },
   "source": [
    "## Latency encoding\n",
    "There are numerous ways to encode images using spikes but here we are going to emit a single spike for each neuron at a time proportional the each pixel's grayscale."
   ]
  },
  {
   "cell_type": "code",
   "execution_count": 16,
   "id": "a2045609",
   "metadata": {
    "execution": {
     "iopub.execute_input": "2023-06-12T06:01:14.175846Z",
     "iopub.status.busy": "2023-06-12T06:01:14.175041Z",
     "iopub.status.idle": "2023-06-12T06:01:14.190114Z",
     "shell.execute_reply": "2023-06-12T06:01:14.189290Z"
    },
    "executionInfo": {
     "elapsed": 6,
     "status": "ok",
     "timestamp": 1686479864930,
     "user": {
      "displayName": "xy fu",
      "userId": "08788996763556351037"
     },
     "user_tz": -480
    },
    "id": "2m9780SfvWec",
    "papermill": {
     "duration": 0.03145,
     "end_time": "2023-06-12T06:01:14.192064",
     "exception": false,
     "start_time": "2023-06-12T06:01:14.160614",
     "status": "completed"
    },
    "tags": []
   },
   "outputs": [],
   "source": [
    "train_spikes = linear_latency_encode_data(train_images, 20.0)"
   ]
  },
  {
   "cell_type": "markdown",
   "id": "98786bd7",
   "metadata": {
    "id": "iuwdL6IE2MuS",
    "papermill": {
     "duration": 0.013409,
     "end_time": "2023-06-12T06:01:14.219165",
     "exception": false,
     "start_time": "2023-06-12T06:01:14.205756",
     "status": "completed"
    },
    "tags": []
   },
   "source": [
    "## Network definition\n",
    "Because our network is entirely feedforward, we can define it as a ``SequentialNetwork`` where each layer is automatically connected to the previous layer. As we have converted the MNIST dataset to spikes, we will use a ``SpikeInput`` to inject these directly into the network. For our hidden layer we are going to use standard Leaky integrate-and-fire neurons. Finally, we are going to use a non-spiking output layer and read classifications out of this by determening the maximum of the output neurons' averaged membrane voltages.\n",
    "\n"
   ]
  },
  {
   "cell_type": "code",
   "execution_count": 17,
   "id": "b6517ab2",
   "metadata": {
    "execution": {
     "iopub.execute_input": "2023-06-12T06:01:14.248091Z",
     "iopub.status.busy": "2023-06-12T06:01:14.247201Z",
     "iopub.status.idle": "2023-06-12T06:01:14.255186Z",
     "shell.execute_reply": "2023-06-12T06:01:14.254360Z"
    },
    "executionInfo": {
     "elapsed": 6,
     "status": "ok",
     "timestamp": 1686479864931,
     "user": {
      "displayName": "xy fu",
      "userId": "08788996763556351037"
     },
     "user_tz": -480
    },
    "id": "C68EDXn6cj-O",
    "papermill": {
     "duration": 0.024545,
     "end_time": "2023-06-12T06:01:14.257328",
     "exception": false,
     "start_time": "2023-06-12T06:01:14.232783",
     "status": "completed"
    },
    "tags": []
   },
   "outputs": [],
   "source": [
    "# Create sequential model\n",
    "serialiser = Numpy(\"latency_mnist_checkpoints\")\n",
    "network = SequentialNetwork(default_params)\n",
    "with network:\n",
    "    # Populations\n",
    "    input = InputLayer(SpikeInput(max_spikes=BATCH_SIZE * NUM_INPUT),\n",
    "                                  NUM_INPUT)\n",
    "#     hidden = Layer(Dense(Normal(mean=0.078, sd=0.045)), \n",
    "#                    LeakyIntegrateFire(v_thresh=1.0, tau_mem=20.0,\n",
    "#                                       tau_refrac=None),\n",
    "#                    NUM_HIDDEN, Exponential(5.0))\n",
    "    hidden = Layer(Dense(Normal(mean=0.078, sd=0.045)), \n",
    "               LeakyIntegrateFire(v_thresh=1.5, tau_mem=25.0,  # changed v_thresh and tau_mem\n",
    "                                  tau_refrac=None),\n",
    "               NUM_HIDDEN, Exponential(5.0))\n",
    "\n",
    "    output = Layer(Dense(Normal(mean=0.2, sd=0.37)),\n",
    "                   LeakyIntegrate(tau_mem=20.0, readout=\"avg_var\"),\n",
    "                   NUM_OUTPUT, Exponential(5.0))"
   ]
  },
  {
   "cell_type": "markdown",
   "id": "7166836b",
   "metadata": {
    "id": "9PCMgNPCz86O",
    "papermill": {
     "duration": 0.013435,
     "end_time": "2023-06-12T06:01:14.284304",
     "exception": false,
     "start_time": "2023-06-12T06:01:14.270869",
     "status": "completed"
    },
    "tags": []
   },
   "source": [
    "## Compilation\n",
    "In mlGeNN, in order to turn an abstract network description into something that can actually be used for training or inference you use a *compiler* class. Here, we use the ``EventPropCompiler`` to train with EventProp and specify batch size and how many timesteps to evaluate each example for as well as choosing our optimiser and loss function. Because this is a classification task, we want to use cross-entropy loss and, because our labels are specified in this way (rather than e.g. one-hot encoded), we use the sparse catgorical variant."
   ]
  },
  {
   "cell_type": "code",
   "execution_count": 18,
   "id": "35d16f48",
   "metadata": {
    "execution": {
     "iopub.execute_input": "2023-06-12T06:01:14.312662Z",
     "iopub.status.busy": "2023-06-12T06:01:14.312377Z",
     "iopub.status.idle": "2023-06-12T06:01:14.526229Z",
     "shell.execute_reply": "2023-06-12T06:01:14.525165Z"
    },
    "executionInfo": {
     "elapsed": 5,
     "status": "ok",
     "timestamp": 1686479864931,
     "user": {
      "displayName": "xy fu",
      "userId": "08788996763556351037"
     },
     "user_tz": -480
    },
    "id": "-7lzXzmQcgbt",
    "papermill": {
     "duration": 0.231339,
     "end_time": "2023-06-12T06:01:14.529320",
     "exception": false,
     "start_time": "2023-06-12T06:01:14.297981",
     "status": "completed"
    },
    "tags": []
   },
   "outputs": [],
   "source": [
    "compiler = EventPropCompiler(example_timesteps=20,\n",
    "                         losses=\"sparse_categorical_crossentropy\",\n",
    "                         optimiser=Adam(1e-2), batch_size=BATCH_SIZE)\n",
    "compiled_net = compiler.compile(network)"
   ]
  },
  {
   "cell_type": "markdown",
   "id": "47fcbc93",
   "metadata": {
    "id": "ATwobw4Mw2LG",
    "papermill": {
     "duration": 0.014641,
     "end_time": "2023-06-12T06:01:14.560444",
     "exception": false,
     "start_time": "2023-06-12T06:01:14.545803",
     "status": "completed"
    },
    "tags": []
   },
   "source": [
    "# Training\n",
    "Now we will train the model for 10 epochs using our compiled network. To verify its performance we take 10% of the training data as a validation split and add an additional callback to checkpoint weights every epoch.\n",
    "\n"
   ]
  },
  {
   "cell_type": "code",
   "execution_count": 19,
   "id": "2b3f446f",
   "metadata": {
    "execution": {
     "iopub.execute_input": "2023-06-12T06:01:14.590866Z",
     "iopub.status.busy": "2023-06-12T06:01:14.590057Z",
     "iopub.status.idle": "2023-06-12T06:01:59.294110Z",
     "shell.execute_reply": "2023-06-12T06:01:59.293155Z"
    },
    "executionInfo": {
     "elapsed": 488,
     "status": "error",
     "timestamp": 1686480363216,
     "user": {
      "displayName": "xy fu",
      "userId": "08788996763556351037"
     },
     "user_tz": -480
    },
    "id": "EEQyoL-zcu-A",
    "outputId": "247f6bb1-9349-421a-cd5c-79602e8ed097",
    "papermill": {
     "duration": 44.722587,
     "end_time": "2023-06-12T06:01:59.297416",
     "exception": false,
     "start_time": "2023-06-12T06:01:14.574829",
     "status": "completed"
    },
    "tags": []
   },
   "outputs": [
    {
     "name": "stderr",
     "output_type": "stream",
     "text": [
      "./EventPropCompiler_CODE/neuronUpdateCUDAOptim.cc(172): warning #177-D: variable \"lYTrue\" was declared but never referenced\n",
      "\n",
      "./EventPropCompiler_CODE/synapseUpdateCUDAOptim.cc(59): warning #177-D: variable \"shLg\" was declared but never referenced\n",
      "\n",
      "./EventPropCompiler_CODE/neuronUpdateCUDAOptim.cc(192): warning #177-D: variable \"backT\" was declared but never referenced\n",
      "\n",
      "./EventPropCompiler_CODE/customUpdateCUDAOptim.cc(423): warning #177-D: variable \"batchOffset\" was declared but never referenced\n",
      "\n",
      "./EventPropCompiler_CODE/synapseUpdateCUDAOptim.cc(59): warning #177-D: variable \"shLg\" was declared but never referenced\n",
      "\n",
      "./EventPropCompiler_CODE/neuronUpdateCUDAOptim.cc(172): warning #177-D: variable \"lYTrue\" was declared but never referenced\n",
      "\n",
      "./EventPropCompiler_CODE/neuronUpdateCUDAOptim.cc(192): warning #177-D: variable \"backT\" was declared but never referenced\n",
      "\n",
      "./EventPropCompiler_CODE/customUpdateCUDAOptim.cc(423): warning #177-D: variable \"batchOffset\" was declared but never referenced\n",
      "\n"
     ]
    },
    {
     "name": "stdout",
     "output_type": "stream",
     "text": [
      "make: Entering directory '/kaggle/working/EventPropCompiler_CODE'\n"
     ]
    },
    {
     "name": "stderr",
     "output_type": "stream",
     "text": [
      "customUpdate.cc(423): warning #177-D: variable \"batchOffset\" was declared but never referenced\n",
      "\n",
      "neuronUpdate.cc(172): warning #177-D: variable \"lYTrue\" was declared but never referenced\n",
      "\n",
      "neuronUpdate.cc(192): warning #177-D: variable \"backT\" was declared but never referenced\n",
      "\n",
      "synapseUpdate.cc(59): warning #177-D: variable \"shLg\" was declared but never referenced\n",
      "\n"
     ]
    },
    {
     "name": "stdout",
     "output_type": "stream",
     "text": [
      "make: Leaving directory '/kaggle/working/EventPropCompiler_CODE'\n"
     ]
    },
    {
     "data": {
      "application/vnd.jupyter.widget-view+json": {
       "model_id": "683bbfc5887e4086999ec9404a701b2c",
       "version_major": 2,
       "version_minor": 0
      },
      "text/plain": [
       "  0%|          | 0/3 [00:00<?, ?it/s]"
      ]
     },
     "metadata": {},
     "output_type": "display_data"
    },
    {
     "data": {
      "application/vnd.jupyter.widget-view+json": {
       "model_id": "af96ea4d837b4f6fbd4e89d6f973a819",
       "version_major": 2,
       "version_minor": 0
      },
      "text/plain": [
       "  0%|          | 0/1 [00:00<?, ?it/s]"
      ]
     },
     "metadata": {},
     "output_type": "display_data"
    }
   ],
   "source": [
    "with compiled_net:\n",
    "  # Evaluate model on numpy dataset\n",
    "  callbacks = [\"batch_progress_bar\", Checkpoint(serialiser)]\n",
    "  compiled_net.train({input: train_spikes},\n",
    "            {output:train_labels_int},\n",
    "            num_epochs=15, shuffle=True,\n",
    "            validation_split=0.1,\n",
    "            callbacks=callbacks)"
   ]
  },
  {
   "cell_type": "markdown",
   "id": "5271565c",
   "metadata": {
    "papermill": {
     "duration": 0.014318,
     "end_time": "2023-06-12T06:01:59.327130",
     "exception": false,
     "start_time": "2023-06-12T06:01:59.312812",
     "status": "completed"
    },
    "tags": []
   },
   "source": [
    "## Evaluate\n",
    "\n",
    "\n",
    "Load weights checkpointed from last epoch:"
   ]
  },
  {
   "cell_type": "code",
   "execution_count": 20,
   "id": "0126921e",
   "metadata": {
    "execution": {
     "iopub.execute_input": "2023-06-12T06:01:59.357807Z",
     "iopub.status.busy": "2023-06-12T06:01:59.356946Z",
     "iopub.status.idle": "2023-06-12T06:01:59.365294Z",
     "shell.execute_reply": "2023-06-12T06:01:59.364452Z"
    },
    "papermill": {
     "duration": 0.025741,
     "end_time": "2023-06-12T06:01:59.367264",
     "exception": false,
     "start_time": "2023-06-12T06:01:59.341523",
     "status": "completed"
    },
    "tags": []
   },
   "outputs": [],
   "source": [
    "network.load((14,), serialiser)"
   ]
  },
  {
   "cell_type": "code",
   "execution_count": 21,
   "id": "a4ea0a7e",
   "metadata": {
    "execution": {
     "iopub.execute_input": "2023-06-12T06:01:59.397803Z",
     "iopub.status.busy": "2023-06-12T06:01:59.397035Z",
     "iopub.status.idle": "2023-06-12T06:01:59.533911Z",
     "shell.execute_reply": "2023-06-12T06:01:59.532569Z"
    },
    "executionInfo": {
     "elapsed": 7,
     "status": "ok",
     "timestamp": 1686480360423,
     "user": {
      "displayName": "xy fu",
      "userId": "08788996763556351037"
     },
     "user_tz": -480
    },
    "id": "L9UNl7e1Z7lw",
    "papermill": {
     "duration": 0.154589,
     "end_time": "2023-06-12T06:01:59.536347",
     "exception": false,
     "start_time": "2023-06-12T06:01:59.381758",
     "status": "completed"
    },
    "tags": []
   },
   "outputs": [],
   "source": [
    "compiler = InferenceCompiler(evaluate_timesteps=20,\n",
    "                             reset_in_syn_between_batches=True,\n",
    "                             batch_size=BATCH_SIZE)\n",
    "compiled_net = compiler.compile(network)"
   ]
  },
  {
   "cell_type": "code",
   "execution_count": 22,
   "id": "bad056b9",
   "metadata": {
    "execution": {
     "iopub.execute_input": "2023-06-12T06:01:59.569029Z",
     "iopub.status.busy": "2023-06-12T06:01:59.568711Z",
     "iopub.status.idle": "2023-06-12T06:02:30.470284Z",
     "shell.execute_reply": "2023-06-12T06:02:30.469308Z"
    },
    "id": "FiUdq6WJEA_r",
    "papermill": {
     "duration": 30.938616,
     "end_time": "2023-06-12T06:02:30.491008",
     "exception": false,
     "start_time": "2023-06-12T06:01:59.552392",
     "status": "completed"
    },
    "tags": []
   },
   "outputs": [
    {
     "name": "stderr",
     "output_type": "stream",
     "text": [
      "./InferenceCompiler_CODE/synapseUpdateCUDAOptim.cc(49): warning #177-D: variable \"synBatchOffset\" was declared but never referenced\n",
      "\n",
      "./InferenceCompiler_CODE/synapseUpdateCUDAOptim.cc(49): warning #177-D: variable \"synBatchOffset\" was declared but never referenced\n",
      "\n"
     ]
    },
    {
     "name": "stdout",
     "output_type": "stream",
     "text": [
      "make: Entering directory '/kaggle/working/InferenceCompiler_CODE'\n"
     ]
    },
    {
     "name": "stderr",
     "output_type": "stream",
     "text": [
      "synapseUpdate.cc(49): warning #177-D: variable \"synBatchOffset\" was declared but never referenced\n",
      "\n"
     ]
    },
    {
     "name": "stdout",
     "output_type": "stream",
     "text": [
      "make: Leaving directory '/kaggle/working/InferenceCompiler_CODE'\n"
     ]
    },
    {
     "data": {
      "application/vnd.jupyter.widget-view+json": {
       "model_id": "31c12e1319284cf983a0719b5064b432",
       "version_major": 2,
       "version_minor": 0
      },
      "text/plain": [
       "  0%|          | 0/4 [00:00<?, ?it/s]"
      ]
     },
     "metadata": {},
     "output_type": "display_data"
    },
    {
     "name": "stderr",
     "output_type": "stream",
     "text": [
      "/opt/conda/lib/python3.10/site-packages/ml_genn/metrics/sparse_categorical_accuracy.py:17: FutureWarning: elementwise comparison failed; returning scalar instead, but in the future will perform elementwise comparison\n",
      "  self.correct += np.sum((np.argmax(y_pred, axis=1) == y_true))\n"
     ]
    }
   ],
   "source": [
    "test_spikes = linear_latency_encode_data(test_images, 20.0)\n",
    "with compiled_net:\n",
    "    compiled_net.evaluate({input: test_spikes},\n",
    "                          {output:test_labels_int})"
   ]
  }
 ],
 "metadata": {
  "kernelspec": {
   "display_name": "Python 3",
   "language": "python",
   "name": "python3"
  },
  "language_info": {
   "codemirror_mode": {
    "name": "ipython",
    "version": 3
   },
   "file_extension": ".py",
   "mimetype": "text/x-python",
   "name": "python",
   "nbconvert_exporter": "python",
   "pygments_lexer": "ipython3",
   "version": "3.10.10"
  },
  "papermill": {
   "default_parameters": {},
   "duration": 159.039009,
   "end_time": "2023-06-12T06:02:31.228077",
   "environment_variables": {},
   "exception": null,
   "input_path": "__notebook__.ipynb",
   "output_path": "__notebook__.ipynb",
   "parameters": {},
   "start_time": "2023-06-12T05:59:52.189068",
   "version": "2.4.0"
  },
  "widgets": {
   "application/vnd.jupyter.widget-state+json": {
    "state": {
     "0016a9d6bf994e94b70b16d834e38bdc": {
      "model_module": "@jupyter-widgets/controls",
      "model_module_version": "1.5.0",
      "model_name": "FloatProgressModel",
      "state": {
       "_dom_classes": [],
       "_model_module": "@jupyter-widgets/controls",
       "_model_module_version": "1.5.0",
       "_model_name": "FloatProgressModel",
       "_view_count": null,
       "_view_module": "@jupyter-widgets/controls",
       "_view_module_version": "1.5.0",
       "_view_name": "ProgressView",
       "bar_style": "success",
       "description": "",
       "description_tooltip": null,
       "layout": "IPY_MODEL_6aa5e18c4c6440618c3add461e2afe7b",
       "max": 3.0,
       "min": 0.0,
       "orientation": "horizontal",
       "style": "IPY_MODEL_57caa5bcc4334072a00fccc1deabee13",
       "value": 3.0
      }
     },
     "13df0e61560c4635a4bba47b78e7f14c": {
      "model_module": "@jupyter-widgets/base",
      "model_module_version": "1.2.0",
      "model_name": "LayoutModel",
      "state": {
       "_model_module": "@jupyter-widgets/base",
       "_model_module_version": "1.2.0",
       "_model_name": "LayoutModel",
       "_view_count": null,
       "_view_module": "@jupyter-widgets/base",
       "_view_module_version": "1.2.0",
       "_view_name": "LayoutView",
       "align_content": null,
       "align_items": null,
       "align_self": null,
       "border": null,
       "bottom": null,
       "display": null,
       "flex": null,
       "flex_flow": null,
       "grid_area": null,
       "grid_auto_columns": null,
       "grid_auto_flow": null,
       "grid_auto_rows": null,
       "grid_column": null,
       "grid_gap": null,
       "grid_row": null,
       "grid_template_areas": null,
       "grid_template_columns": null,
       "grid_template_rows": null,
       "height": null,
       "justify_content": null,
       "justify_items": null,
       "left": null,
       "margin": null,
       "max_height": null,
       "max_width": null,
       "min_height": null,
       "min_width": null,
       "object_fit": null,
       "object_position": null,
       "order": null,
       "overflow": null,
       "overflow_x": null,
       "overflow_y": null,
       "padding": null,
       "right": null,
       "top": null,
       "visibility": null,
       "width": null
      }
     },
     "231b7bf52b3d4050881ffdab6c3bfaf2": {
      "model_module": "@jupyter-widgets/controls",
      "model_module_version": "1.5.0",
      "model_name": "FloatProgressModel",
      "state": {
       "_dom_classes": [],
       "_model_module": "@jupyter-widgets/controls",
       "_model_module_version": "1.5.0",
       "_model_name": "FloatProgressModel",
       "_view_count": null,
       "_view_module": "@jupyter-widgets/controls",
       "_view_module_version": "1.5.0",
       "_view_name": "ProgressView",
       "bar_style": "success",
       "description": "",
       "description_tooltip": null,
       "layout": "IPY_MODEL_c4ccaf29b4ac4387977345ea064775a1",
       "max": 1.0,
       "min": 0.0,
       "orientation": "horizontal",
       "style": "IPY_MODEL_2ee294e436ab4717a0012fe5ea8e8bdc",
       "value": 1.0
      }
     },
     "23408252cf644dd68f76da1c9d0a6d27": {
      "model_module": "@jupyter-widgets/controls",
      "model_module_version": "1.5.0",
      "model_name": "DescriptionStyleModel",
      "state": {
       "_model_module": "@jupyter-widgets/controls",
       "_model_module_version": "1.5.0",
       "_model_name": "DescriptionStyleModel",
       "_view_count": null,
       "_view_module": "@jupyter-widgets/base",
       "_view_module_version": "1.2.0",
       "_view_name": "StyleView",
       "description_width": ""
      }
     },
     "2ee294e436ab4717a0012fe5ea8e8bdc": {
      "model_module": "@jupyter-widgets/controls",
      "model_module_version": "1.5.0",
      "model_name": "ProgressStyleModel",
      "state": {
       "_model_module": "@jupyter-widgets/controls",
       "_model_module_version": "1.5.0",
       "_model_name": "ProgressStyleModel",
       "_view_count": null,
       "_view_module": "@jupyter-widgets/base",
       "_view_module_version": "1.2.0",
       "_view_name": "StyleView",
       "bar_color": null,
       "description_width": ""
      }
     },
     "31c12e1319284cf983a0719b5064b432": {
      "model_module": "@jupyter-widgets/controls",
      "model_module_version": "1.5.0",
      "model_name": "HBoxModel",
      "state": {
       "_dom_classes": [],
       "_model_module": "@jupyter-widgets/controls",
       "_model_module_version": "1.5.0",
       "_model_name": "HBoxModel",
       "_view_count": null,
       "_view_module": "@jupyter-widgets/controls",
       "_view_module_version": "1.5.0",
       "_view_name": "HBoxView",
       "box_style": "",
       "children": [
        "IPY_MODEL_52a9b96708fc4272b4d13375d70540af",
        "IPY_MODEL_d7c9d50e390d4fd88327d37ac899c420",
        "IPY_MODEL_6d88a1ebe57c4014883b34fcd514e76b"
       ],
       "layout": "IPY_MODEL_b2546a26a7da4e828000a7681722442d"
      }
     },
     "411c491c72d74d61b06199c276065f4a": {
      "model_module": "@jupyter-widgets/controls",
      "model_module_version": "1.5.0",
      "model_name": "HTMLModel",
      "state": {
       "_dom_classes": [],
       "_model_module": "@jupyter-widgets/controls",
       "_model_module_version": "1.5.0",
       "_model_name": "HTMLModel",
       "_view_count": null,
       "_view_module": "@jupyter-widgets/controls",
       "_view_module_version": "1.5.0",
       "_view_name": "HTMLView",
       "description": "",
       "description_tooltip": null,
       "layout": "IPY_MODEL_e0ffe3b639ed4dba9eba9e121dd5fd27",
       "placeholder": "​",
       "style": "IPY_MODEL_c2791c1764dd4d4ea518b6e475e0d712",
       "value": "Epoch 14: 100%"
      }
     },
     "41e97ccc27a74238a0034a63aa8d8dae": {
      "model_module": "@jupyter-widgets/base",
      "model_module_version": "1.2.0",
      "model_name": "LayoutModel",
      "state": {
       "_model_module": "@jupyter-widgets/base",
       "_model_module_version": "1.2.0",
       "_model_name": "LayoutModel",
       "_view_count": null,
       "_view_module": "@jupyter-widgets/base",
       "_view_module_version": "1.2.0",
       "_view_name": "LayoutView",
       "align_content": null,
       "align_items": null,
       "align_self": null,
       "border": null,
       "bottom": null,
       "display": null,
       "flex": null,
       "flex_flow": null,
       "grid_area": null,
       "grid_auto_columns": null,
       "grid_auto_flow": null,
       "grid_auto_rows": null,
       "grid_column": null,
       "grid_gap": null,
       "grid_row": null,
       "grid_template_areas": null,
       "grid_template_columns": null,
       "grid_template_rows": null,
       "height": null,
       "justify_content": null,
       "justify_items": null,
       "left": null,
       "margin": null,
       "max_height": null,
       "max_width": null,
       "min_height": null,
       "min_width": null,
       "object_fit": null,
       "object_position": null,
       "order": null,
       "overflow": null,
       "overflow_x": null,
       "overflow_y": null,
       "padding": null,
       "right": null,
       "top": null,
       "visibility": null,
       "width": null
      }
     },
     "52a9b96708fc4272b4d13375d70540af": {
      "model_module": "@jupyter-widgets/controls",
      "model_module_version": "1.5.0",
      "model_name": "HTMLModel",
      "state": {
       "_dom_classes": [],
       "_model_module": "@jupyter-widgets/controls",
       "_model_module_version": "1.5.0",
       "_model_name": "HTMLModel",
       "_view_count": null,
       "_view_module": "@jupyter-widgets/controls",
       "_view_module_version": "1.5.0",
       "_view_name": "HTMLView",
       "description": "",
       "description_tooltip": null,
       "layout": "IPY_MODEL_13df0e61560c4635a4bba47b78e7f14c",
       "placeholder": "​",
       "style": "IPY_MODEL_fe09c1828f1e47249e9b69956ae850d9",
       "value": "100%"
      }
     },
     "57caa5bcc4334072a00fccc1deabee13": {
      "model_module": "@jupyter-widgets/controls",
      "model_module_version": "1.5.0",
      "model_name": "ProgressStyleModel",
      "state": {
       "_model_module": "@jupyter-widgets/controls",
       "_model_module_version": "1.5.0",
       "_model_name": "ProgressStyleModel",
       "_view_count": null,
       "_view_module": "@jupyter-widgets/base",
       "_view_module_version": "1.2.0",
       "_view_name": "StyleView",
       "bar_color": null,
       "description_width": ""
      }
     },
     "5bd4dc436a4945ecb82598cc9b53eede": {
      "model_module": "@jupyter-widgets/controls",
      "model_module_version": "1.5.0",
      "model_name": "HTMLModel",
      "state": {
       "_dom_classes": [],
       "_model_module": "@jupyter-widgets/controls",
       "_model_module_version": "1.5.0",
       "_model_name": "HTMLModel",
       "_view_count": null,
       "_view_module": "@jupyter-widgets/controls",
       "_view_module_version": "1.5.0",
       "_view_name": "HTMLView",
       "description": "",
       "description_tooltip": null,
       "layout": "IPY_MODEL_663a8392aefa40e185ff4e50399d3f97",
       "placeholder": "​",
       "style": "IPY_MODEL_df90b4043e4f4822aa67da3e0d4c900e",
       "value": "Epoch 14: 100%"
      }
     },
     "663a8392aefa40e185ff4e50399d3f97": {
      "model_module": "@jupyter-widgets/base",
      "model_module_version": "1.2.0",
      "model_name": "LayoutModel",
      "state": {
       "_model_module": "@jupyter-widgets/base",
       "_model_module_version": "1.2.0",
       "_model_name": "LayoutModel",
       "_view_count": null,
       "_view_module": "@jupyter-widgets/base",
       "_view_module_version": "1.2.0",
       "_view_name": "LayoutView",
       "align_content": null,
       "align_items": null,
       "align_self": null,
       "border": null,
       "bottom": null,
       "display": null,
       "flex": null,
       "flex_flow": null,
       "grid_area": null,
       "grid_auto_columns": null,
       "grid_auto_flow": null,
       "grid_auto_rows": null,
       "grid_column": null,
       "grid_gap": null,
       "grid_row": null,
       "grid_template_areas": null,
       "grid_template_columns": null,
       "grid_template_rows": null,
       "height": null,
       "justify_content": null,
       "justify_items": null,
       "left": null,
       "margin": null,
       "max_height": null,
       "max_width": null,
       "min_height": null,
       "min_width": null,
       "object_fit": null,
       "object_position": null,
       "order": null,
       "overflow": null,
       "overflow_x": null,
       "overflow_y": null,
       "padding": null,
       "right": null,
       "top": null,
       "visibility": null,
       "width": null
      }
     },
     "683bbfc5887e4086999ec9404a701b2c": {
      "model_module": "@jupyter-widgets/controls",
      "model_module_version": "1.5.0",
      "model_name": "HBoxModel",
      "state": {
       "_dom_classes": [],
       "_model_module": "@jupyter-widgets/controls",
       "_model_module_version": "1.5.0",
       "_model_name": "HBoxModel",
       "_view_count": null,
       "_view_module": "@jupyter-widgets/controls",
       "_view_module_version": "1.5.0",
       "_view_name": "HBoxView",
       "box_style": "",
       "children": [
        "IPY_MODEL_411c491c72d74d61b06199c276065f4a",
        "IPY_MODEL_0016a9d6bf994e94b70b16d834e38bdc",
        "IPY_MODEL_e0e5e4e9070a48bda8459369a7a5b472"
       ],
       "layout": "IPY_MODEL_e7d1846566744c51a60b47f5b0b77f59"
      }
     },
     "6aa5e18c4c6440618c3add461e2afe7b": {
      "model_module": "@jupyter-widgets/base",
      "model_module_version": "1.2.0",
      "model_name": "LayoutModel",
      "state": {
       "_model_module": "@jupyter-widgets/base",
       "_model_module_version": "1.2.0",
       "_model_name": "LayoutModel",
       "_view_count": null,
       "_view_module": "@jupyter-widgets/base",
       "_view_module_version": "1.2.0",
       "_view_name": "LayoutView",
       "align_content": null,
       "align_items": null,
       "align_self": null,
       "border": null,
       "bottom": null,
       "display": null,
       "flex": null,
       "flex_flow": null,
       "grid_area": null,
       "grid_auto_columns": null,
       "grid_auto_flow": null,
       "grid_auto_rows": null,
       "grid_column": null,
       "grid_gap": null,
       "grid_row": null,
       "grid_template_areas": null,
       "grid_template_columns": null,
       "grid_template_rows": null,
       "height": null,
       "justify_content": null,
       "justify_items": null,
       "left": null,
       "margin": null,
       "max_height": null,
       "max_width": null,
       "min_height": null,
       "min_width": null,
       "object_fit": null,
       "object_position": null,
       "order": null,
       "overflow": null,
       "overflow_x": null,
       "overflow_y": null,
       "padding": null,
       "right": null,
       "top": null,
       "visibility": null,
       "width": null
      }
     },
     "6d88a1ebe57c4014883b34fcd514e76b": {
      "model_module": "@jupyter-widgets/controls",
      "model_module_version": "1.5.0",
      "model_name": "HTMLModel",
      "state": {
       "_dom_classes": [],
       "_model_module": "@jupyter-widgets/controls",
       "_model_module_version": "1.5.0",
       "_model_name": "HTMLModel",
       "_view_count": null,
       "_view_module": "@jupyter-widgets/controls",
       "_view_module_version": "1.5.0",
       "_view_name": "HTMLView",
       "description": "",
       "description_tooltip": null,
       "layout": "IPY_MODEL_41e97ccc27a74238a0034a63aa8d8dae",
       "placeholder": "​",
       "style": "IPY_MODEL_c433e60c62804d4b8a97f4a533042e5f",
       "value": " 4/4 [00:00&lt;00:00, 217.53it/s, SparseCategoricalAccuracy: 0.0000]"
      }
     },
     "73b0d1f0072f480884b6217e9874a3a7": {
      "model_module": "@jupyter-widgets/controls",
      "model_module_version": "1.5.0",
      "model_name": "ProgressStyleModel",
      "state": {
       "_model_module": "@jupyter-widgets/controls",
       "_model_module_version": "1.5.0",
       "_model_name": "ProgressStyleModel",
       "_view_count": null,
       "_view_module": "@jupyter-widgets/base",
       "_view_module_version": "1.2.0",
       "_view_name": "StyleView",
       "bar_color": null,
       "description_width": ""
      }
     },
     "813bda22273f4932b310e4892bc8f7f6": {
      "model_module": "@jupyter-widgets/base",
      "model_module_version": "1.2.0",
      "model_name": "LayoutModel",
      "state": {
       "_model_module": "@jupyter-widgets/base",
       "_model_module_version": "1.2.0",
       "_model_name": "LayoutModel",
       "_view_count": null,
       "_view_module": "@jupyter-widgets/base",
       "_view_module_version": "1.2.0",
       "_view_name": "LayoutView",
       "align_content": null,
       "align_items": null,
       "align_self": null,
       "border": null,
       "bottom": null,
       "display": null,
       "flex": null,
       "flex_flow": null,
       "grid_area": null,
       "grid_auto_columns": null,
       "grid_auto_flow": null,
       "grid_auto_rows": null,
       "grid_column": null,
       "grid_gap": null,
       "grid_row": null,
       "grid_template_areas": null,
       "grid_template_columns": null,
       "grid_template_rows": null,
       "height": null,
       "justify_content": null,
       "justify_items": null,
       "left": null,
       "margin": null,
       "max_height": null,
       "max_width": null,
       "min_height": null,
       "min_width": null,
       "object_fit": null,
       "object_position": null,
       "order": null,
       "overflow": null,
       "overflow_x": null,
       "overflow_y": null,
       "padding": null,
       "right": null,
       "top": null,
       "visibility": null,
       "width": null
      }
     },
     "af96ea4d837b4f6fbd4e89d6f973a819": {
      "model_module": "@jupyter-widgets/controls",
      "model_module_version": "1.5.0",
      "model_name": "HBoxModel",
      "state": {
       "_dom_classes": [],
       "_model_module": "@jupyter-widgets/controls",
       "_model_module_version": "1.5.0",
       "_model_name": "HBoxModel",
       "_view_count": null,
       "_view_module": "@jupyter-widgets/controls",
       "_view_module_version": "1.5.0",
       "_view_name": "HBoxView",
       "box_style": "",
       "children": [
        "IPY_MODEL_5bd4dc436a4945ecb82598cc9b53eede",
        "IPY_MODEL_231b7bf52b3d4050881ffdab6c3bfaf2",
        "IPY_MODEL_d5556427cfb34be6807a39df4eb994f7"
       ],
       "layout": "IPY_MODEL_c658bc513a984948b2f7d4f6622fae29"
      }
     },
     "b2546a26a7da4e828000a7681722442d": {
      "model_module": "@jupyter-widgets/base",
      "model_module_version": "1.2.0",
      "model_name": "LayoutModel",
      "state": {
       "_model_module": "@jupyter-widgets/base",
       "_model_module_version": "1.2.0",
       "_model_name": "LayoutModel",
       "_view_count": null,
       "_view_module": "@jupyter-widgets/base",
       "_view_module_version": "1.2.0",
       "_view_name": "LayoutView",
       "align_content": null,
       "align_items": null,
       "align_self": null,
       "border": null,
       "bottom": null,
       "display": null,
       "flex": null,
       "flex_flow": null,
       "grid_area": null,
       "grid_auto_columns": null,
       "grid_auto_flow": null,
       "grid_auto_rows": null,
       "grid_column": null,
       "grid_gap": null,
       "grid_row": null,
       "grid_template_areas": null,
       "grid_template_columns": null,
       "grid_template_rows": null,
       "height": null,
       "justify_content": null,
       "justify_items": null,
       "left": null,
       "margin": null,
       "max_height": null,
       "max_width": null,
       "min_height": null,
       "min_width": null,
       "object_fit": null,
       "object_position": null,
       "order": null,
       "overflow": null,
       "overflow_x": null,
       "overflow_y": null,
       "padding": null,
       "right": null,
       "top": null,
       "visibility": null,
       "width": null
      }
     },
     "c2791c1764dd4d4ea518b6e475e0d712": {
      "model_module": "@jupyter-widgets/controls",
      "model_module_version": "1.5.0",
      "model_name": "DescriptionStyleModel",
      "state": {
       "_model_module": "@jupyter-widgets/controls",
       "_model_module_version": "1.5.0",
       "_model_name": "DescriptionStyleModel",
       "_view_count": null,
       "_view_module": "@jupyter-widgets/base",
       "_view_module_version": "1.2.0",
       "_view_name": "StyleView",
       "description_width": ""
      }
     },
     "c433e60c62804d4b8a97f4a533042e5f": {
      "model_module": "@jupyter-widgets/controls",
      "model_module_version": "1.5.0",
      "model_name": "DescriptionStyleModel",
      "state": {
       "_model_module": "@jupyter-widgets/controls",
       "_model_module_version": "1.5.0",
       "_model_name": "DescriptionStyleModel",
       "_view_count": null,
       "_view_module": "@jupyter-widgets/base",
       "_view_module_version": "1.2.0",
       "_view_name": "StyleView",
       "description_width": ""
      }
     },
     "c4ccaf29b4ac4387977345ea064775a1": {
      "model_module": "@jupyter-widgets/base",
      "model_module_version": "1.2.0",
      "model_name": "LayoutModel",
      "state": {
       "_model_module": "@jupyter-widgets/base",
       "_model_module_version": "1.2.0",
       "_model_name": "LayoutModel",
       "_view_count": null,
       "_view_module": "@jupyter-widgets/base",
       "_view_module_version": "1.2.0",
       "_view_name": "LayoutView",
       "align_content": null,
       "align_items": null,
       "align_self": null,
       "border": null,
       "bottom": null,
       "display": null,
       "flex": null,
       "flex_flow": null,
       "grid_area": null,
       "grid_auto_columns": null,
       "grid_auto_flow": null,
       "grid_auto_rows": null,
       "grid_column": null,
       "grid_gap": null,
       "grid_row": null,
       "grid_template_areas": null,
       "grid_template_columns": null,
       "grid_template_rows": null,
       "height": null,
       "justify_content": null,
       "justify_items": null,
       "left": null,
       "margin": null,
       "max_height": null,
       "max_width": null,
       "min_height": null,
       "min_width": null,
       "object_fit": null,
       "object_position": null,
       "order": null,
       "overflow": null,
       "overflow_x": null,
       "overflow_y": null,
       "padding": null,
       "right": null,
       "top": null,
       "visibility": null,
       "width": null
      }
     },
     "c4e33ba7214e4bb8a74a8e94cdf06a4a": {
      "model_module": "@jupyter-widgets/controls",
      "model_module_version": "1.5.0",
      "model_name": "DescriptionStyleModel",
      "state": {
       "_model_module": "@jupyter-widgets/controls",
       "_model_module_version": "1.5.0",
       "_model_name": "DescriptionStyleModel",
       "_view_count": null,
       "_view_module": "@jupyter-widgets/base",
       "_view_module_version": "1.2.0",
       "_view_name": "StyleView",
       "description_width": ""
      }
     },
     "c658bc513a984948b2f7d4f6622fae29": {
      "model_module": "@jupyter-widgets/base",
      "model_module_version": "1.2.0",
      "model_name": "LayoutModel",
      "state": {
       "_model_module": "@jupyter-widgets/base",
       "_model_module_version": "1.2.0",
       "_model_name": "LayoutModel",
       "_view_count": null,
       "_view_module": "@jupyter-widgets/base",
       "_view_module_version": "1.2.0",
       "_view_name": "LayoutView",
       "align_content": null,
       "align_items": null,
       "align_self": null,
       "border": null,
       "bottom": null,
       "display": null,
       "flex": null,
       "flex_flow": null,
       "grid_area": null,
       "grid_auto_columns": null,
       "grid_auto_flow": null,
       "grid_auto_rows": null,
       "grid_column": null,
       "grid_gap": null,
       "grid_row": null,
       "grid_template_areas": null,
       "grid_template_columns": null,
       "grid_template_rows": null,
       "height": null,
       "justify_content": null,
       "justify_items": null,
       "left": null,
       "margin": null,
       "max_height": null,
       "max_width": null,
       "min_height": null,
       "min_width": null,
       "object_fit": null,
       "object_position": null,
       "order": null,
       "overflow": null,
       "overflow_x": null,
       "overflow_y": null,
       "padding": null,
       "right": null,
       "top": null,
       "visibility": null,
       "width": null
      }
     },
     "d5556427cfb34be6807a39df4eb994f7": {
      "model_module": "@jupyter-widgets/controls",
      "model_module_version": "1.5.0",
      "model_name": "HTMLModel",
      "state": {
       "_dom_classes": [],
       "_model_module": "@jupyter-widgets/controls",
       "_model_module_version": "1.5.0",
       "_model_name": "HTMLModel",
       "_view_count": null,
       "_view_module": "@jupyter-widgets/controls",
       "_view_module_version": "1.5.0",
       "_view_name": "HTMLView",
       "description": "",
       "description_tooltip": null,
       "layout": "IPY_MODEL_813bda22273f4932b310e4892bc8f7f6",
       "placeholder": "​",
       "style": "IPY_MODEL_23408252cf644dd68f76da1c9d0a6d27",
       "value": " 1/1 [00:00&lt;00:00, 107.20it/s, SparseCategoricalAccuracy: 0.0500]"
      }
     },
     "d7c9d50e390d4fd88327d37ac899c420": {
      "model_module": "@jupyter-widgets/controls",
      "model_module_version": "1.5.0",
      "model_name": "FloatProgressModel",
      "state": {
       "_dom_classes": [],
       "_model_module": "@jupyter-widgets/controls",
       "_model_module_version": "1.5.0",
       "_model_name": "FloatProgressModel",
       "_view_count": null,
       "_view_module": "@jupyter-widgets/controls",
       "_view_module_version": "1.5.0",
       "_view_name": "ProgressView",
       "bar_style": "success",
       "description": "",
       "description_tooltip": null,
       "layout": "IPY_MODEL_dc670185746947b695d43b7e27d10c7e",
       "max": 4.0,
       "min": 0.0,
       "orientation": "horizontal",
       "style": "IPY_MODEL_73b0d1f0072f480884b6217e9874a3a7",
       "value": 4.0
      }
     },
     "dc670185746947b695d43b7e27d10c7e": {
      "model_module": "@jupyter-widgets/base",
      "model_module_version": "1.2.0",
      "model_name": "LayoutModel",
      "state": {
       "_model_module": "@jupyter-widgets/base",
       "_model_module_version": "1.2.0",
       "_model_name": "LayoutModel",
       "_view_count": null,
       "_view_module": "@jupyter-widgets/base",
       "_view_module_version": "1.2.0",
       "_view_name": "LayoutView",
       "align_content": null,
       "align_items": null,
       "align_self": null,
       "border": null,
       "bottom": null,
       "display": null,
       "flex": null,
       "flex_flow": null,
       "grid_area": null,
       "grid_auto_columns": null,
       "grid_auto_flow": null,
       "grid_auto_rows": null,
       "grid_column": null,
       "grid_gap": null,
       "grid_row": null,
       "grid_template_areas": null,
       "grid_template_columns": null,
       "grid_template_rows": null,
       "height": null,
       "justify_content": null,
       "justify_items": null,
       "left": null,
       "margin": null,
       "max_height": null,
       "max_width": null,
       "min_height": null,
       "min_width": null,
       "object_fit": null,
       "object_position": null,
       "order": null,
       "overflow": null,
       "overflow_x": null,
       "overflow_y": null,
       "padding": null,
       "right": null,
       "top": null,
       "visibility": null,
       "width": null
      }
     },
     "df90b4043e4f4822aa67da3e0d4c900e": {
      "model_module": "@jupyter-widgets/controls",
      "model_module_version": "1.5.0",
      "model_name": "DescriptionStyleModel",
      "state": {
       "_model_module": "@jupyter-widgets/controls",
       "_model_module_version": "1.5.0",
       "_model_name": "DescriptionStyleModel",
       "_view_count": null,
       "_view_module": "@jupyter-widgets/base",
       "_view_module_version": "1.2.0",
       "_view_name": "StyleView",
       "description_width": ""
      }
     },
     "e0e5e4e9070a48bda8459369a7a5b472": {
      "model_module": "@jupyter-widgets/controls",
      "model_module_version": "1.5.0",
      "model_name": "HTMLModel",
      "state": {
       "_dom_classes": [],
       "_model_module": "@jupyter-widgets/controls",
       "_model_module_version": "1.5.0",
       "_model_name": "HTMLModel",
       "_view_count": null,
       "_view_module": "@jupyter-widgets/controls",
       "_view_module_version": "1.5.0",
       "_view_name": "HTMLView",
       "description": "",
       "description_tooltip": null,
       "layout": "IPY_MODEL_f4479693a9bd4a67b614a18fa90a81a3",
       "placeholder": "​",
       "style": "IPY_MODEL_c4e33ba7214e4bb8a74a8e94cdf06a4a",
       "value": " 3/3 [00:00&lt;00:00, 125.67it/s, SparseCategoricalAccuracy: 0.0500]"
      }
     },
     "e0ffe3b639ed4dba9eba9e121dd5fd27": {
      "model_module": "@jupyter-widgets/base",
      "model_module_version": "1.2.0",
      "model_name": "LayoutModel",
      "state": {
       "_model_module": "@jupyter-widgets/base",
       "_model_module_version": "1.2.0",
       "_model_name": "LayoutModel",
       "_view_count": null,
       "_view_module": "@jupyter-widgets/base",
       "_view_module_version": "1.2.0",
       "_view_name": "LayoutView",
       "align_content": null,
       "align_items": null,
       "align_self": null,
       "border": null,
       "bottom": null,
       "display": null,
       "flex": null,
       "flex_flow": null,
       "grid_area": null,
       "grid_auto_columns": null,
       "grid_auto_flow": null,
       "grid_auto_rows": null,
       "grid_column": null,
       "grid_gap": null,
       "grid_row": null,
       "grid_template_areas": null,
       "grid_template_columns": null,
       "grid_template_rows": null,
       "height": null,
       "justify_content": null,
       "justify_items": null,
       "left": null,
       "margin": null,
       "max_height": null,
       "max_width": null,
       "min_height": null,
       "min_width": null,
       "object_fit": null,
       "object_position": null,
       "order": null,
       "overflow": null,
       "overflow_x": null,
       "overflow_y": null,
       "padding": null,
       "right": null,
       "top": null,
       "visibility": null,
       "width": null
      }
     },
     "e7d1846566744c51a60b47f5b0b77f59": {
      "model_module": "@jupyter-widgets/base",
      "model_module_version": "1.2.0",
      "model_name": "LayoutModel",
      "state": {
       "_model_module": "@jupyter-widgets/base",
       "_model_module_version": "1.2.0",
       "_model_name": "LayoutModel",
       "_view_count": null,
       "_view_module": "@jupyter-widgets/base",
       "_view_module_version": "1.2.0",
       "_view_name": "LayoutView",
       "align_content": null,
       "align_items": null,
       "align_self": null,
       "border": null,
       "bottom": null,
       "display": null,
       "flex": null,
       "flex_flow": null,
       "grid_area": null,
       "grid_auto_columns": null,
       "grid_auto_flow": null,
       "grid_auto_rows": null,
       "grid_column": null,
       "grid_gap": null,
       "grid_row": null,
       "grid_template_areas": null,
       "grid_template_columns": null,
       "grid_template_rows": null,
       "height": null,
       "justify_content": null,
       "justify_items": null,
       "left": null,
       "margin": null,
       "max_height": null,
       "max_width": null,
       "min_height": null,
       "min_width": null,
       "object_fit": null,
       "object_position": null,
       "order": null,
       "overflow": null,
       "overflow_x": null,
       "overflow_y": null,
       "padding": null,
       "right": null,
       "top": null,
       "visibility": null,
       "width": null
      }
     },
     "f4479693a9bd4a67b614a18fa90a81a3": {
      "model_module": "@jupyter-widgets/base",
      "model_module_version": "1.2.0",
      "model_name": "LayoutModel",
      "state": {
       "_model_module": "@jupyter-widgets/base",
       "_model_module_version": "1.2.0",
       "_model_name": "LayoutModel",
       "_view_count": null,
       "_view_module": "@jupyter-widgets/base",
       "_view_module_version": "1.2.0",
       "_view_name": "LayoutView",
       "align_content": null,
       "align_items": null,
       "align_self": null,
       "border": null,
       "bottom": null,
       "display": null,
       "flex": null,
       "flex_flow": null,
       "grid_area": null,
       "grid_auto_columns": null,
       "grid_auto_flow": null,
       "grid_auto_rows": null,
       "grid_column": null,
       "grid_gap": null,
       "grid_row": null,
       "grid_template_areas": null,
       "grid_template_columns": null,
       "grid_template_rows": null,
       "height": null,
       "justify_content": null,
       "justify_items": null,
       "left": null,
       "margin": null,
       "max_height": null,
       "max_width": null,
       "min_height": null,
       "min_width": null,
       "object_fit": null,
       "object_position": null,
       "order": null,
       "overflow": null,
       "overflow_x": null,
       "overflow_y": null,
       "padding": null,
       "right": null,
       "top": null,
       "visibility": null,
       "width": null
      }
     },
     "fe09c1828f1e47249e9b69956ae850d9": {
      "model_module": "@jupyter-widgets/controls",
      "model_module_version": "1.5.0",
      "model_name": "DescriptionStyleModel",
      "state": {
       "_model_module": "@jupyter-widgets/controls",
       "_model_module_version": "1.5.0",
       "_model_name": "DescriptionStyleModel",
       "_view_count": null,
       "_view_module": "@jupyter-widgets/base",
       "_view_module_version": "1.2.0",
       "_view_name": "StyleView",
       "description_width": ""
      }
     }
    },
    "version_major": 2,
    "version_minor": 0
   }
  }
 },
 "nbformat": 4,
 "nbformat_minor": 5
}
