{
 "cells": [
  {
   "cell_type": "markdown",
   "id": "653dcc63",
   "metadata": {
    "execution": {
     "iopub.execute_input": "2023-06-12T05:37:06.654551Z",
     "iopub.status.busy": "2023-06-12T05:37:06.653922Z",
     "iopub.status.idle": "2023-06-12T05:37:06.670500Z",
     "shell.execute_reply": "2023-06-12T05:37:06.669192Z",
     "shell.execute_reply.started": "2023-06-12T05:37:06.654525Z"
    },
    "id": "VoKFvyB-Sxvy",
    "papermill": {
     "duration": 0.01094,
     "end_time": "2023-07-06T07:38:38.793619",
     "exception": false,
     "start_time": "2023-07-06T07:38:38.782679",
     "status": "completed"
    },
    "tags": []
   },
   "source": [
    "## Install PyGeNN wheel from Google Drive\n",
    "Download wheel file"
   ]
  },
  {
   "cell_type": "code",
   "execution_count": 1,
   "id": "438afa5c",
   "metadata": {
    "execution": {
     "iopub.execute_input": "2023-07-06T07:38:38.820215Z",
     "iopub.status.busy": "2023-07-06T07:38:38.819511Z",
     "iopub.status.idle": "2023-07-06T07:38:52.728220Z",
     "shell.execute_reply": "2023-07-06T07:38:52.726706Z"
    },
    "papermill": {
     "duration": 13.924274,
     "end_time": "2023-07-06T07:38:52.730421",
     "exception": false,
     "start_time": "2023-07-06T07:38:38.806147",
     "status": "completed"
    },
    "tags": []
   },
   "outputs": [
    {
     "name": "stdout",
     "output_type": "stream",
     "text": [
      "Collecting gdown\r\n",
      "  Downloading gdown-4.7.1-py3-none-any.whl (15 kB)\r\n",
      "Requirement already satisfied: filelock in /opt/conda/lib/python3.10/site-packages (from gdown) (3.12.0)\r\n",
      "Requirement already satisfied: requests[socks] in /opt/conda/lib/python3.10/site-packages (from gdown) (2.28.2)\r\n",
      "Requirement already satisfied: six in /opt/conda/lib/python3.10/site-packages (from gdown) (1.16.0)\r\n",
      "Requirement already satisfied: tqdm in /opt/conda/lib/python3.10/site-packages (from gdown) (4.64.1)\r\n",
      "Requirement already satisfied: beautifulsoup4 in /opt/conda/lib/python3.10/site-packages (from gdown) (4.12.2)\r\n",
      "Requirement already satisfied: soupsieve>1.2 in /opt/conda/lib/python3.10/site-packages (from beautifulsoup4->gdown) (2.3.2.post1)\r\n",
      "Requirement already satisfied: charset-normalizer<4,>=2 in /opt/conda/lib/python3.10/site-packages (from requests[socks]->gdown) (2.1.1)\r\n",
      "Requirement already satisfied: idna<4,>=2.5 in /opt/conda/lib/python3.10/site-packages (from requests[socks]->gdown) (3.4)\r\n",
      "Requirement already satisfied: urllib3<1.27,>=1.21.1 in /opt/conda/lib/python3.10/site-packages (from requests[socks]->gdown) (1.26.15)\r\n",
      "Requirement already satisfied: certifi>=2017.4.17 in /opt/conda/lib/python3.10/site-packages (from requests[socks]->gdown) (2023.5.7)\r\n",
      "Requirement already satisfied: PySocks!=1.5.7,>=1.5.6 in /opt/conda/lib/python3.10/site-packages (from requests[socks]->gdown) (1.7.1)\r\n",
      "Installing collected packages: gdown\r\n",
      "Successfully installed gdown-4.7.1\r\n",
      "\u001b[33mWARNING: Running pip as the 'root' user can result in broken permissions and conflicting behaviour with the system package manager. It is recommended to use a virtual environment instead: https://pip.pypa.io/warnings/venv\u001b[0m\u001b[33m\r\n",
      "\u001b[0mNote: you may need to restart the kernel to use updated packages.\n"
     ]
    }
   ],
   "source": [
    "pip install gdown"
   ]
  },
  {
   "cell_type": "code",
   "execution_count": 2,
   "id": "4099b2da",
   "metadata": {
    "execution": {
     "iopub.execute_input": "2023-07-06T07:38:52.754266Z",
     "iopub.status.busy": "2023-07-06T07:38:52.753937Z",
     "iopub.status.idle": "2023-07-06T07:39:12.203246Z",
     "shell.execute_reply": "2023-07-06T07:39:12.202276Z"
    },
    "papermill": {
     "duration": 19.463512,
     "end_time": "2023-07-06T07:39:12.205178",
     "exception": false,
     "start_time": "2023-07-06T07:38:52.741666",
     "status": "completed"
    },
    "tags": []
   },
   "outputs": [
    {
     "name": "stderr",
     "output_type": "stream",
     "text": [
      "Downloading...\n",
      "From: https://drive.google.com/uc?id=1fllqUtL_1_tyGzjNHSR-9i5fXFI9jqAi\n",
      "To: /kaggle/working/pygenn-4.8.1-cp310-cp310-linux_x86_64.whl\n",
      "100%|██████████| 22.3M/22.3M [00:00<00:00, 183MB/s]\n"
     ]
    },
    {
     "data": {
      "text/plain": [
       "'pygenn-4.8.1-cp310-cp310-linux_x86_64.whl'"
      ]
     },
     "execution_count": 2,
     "metadata": {},
     "output_type": "execute_result"
    }
   ],
   "source": [
    "import gdown\n",
    "\n",
    "url = 'https://drive.google.com/uc?id=1fllqUtL_1_tyGzjNHSR-9i5fXFI9jqAi'\n",
    "\n",
    "output = 'pygenn-4.8.1-cp310-cp310-linux_x86_64.whl'\n",
    "\n",
    "gdown.download(url, output, quiet=False)"
   ]
  },
  {
   "cell_type": "markdown",
   "id": "ac111a4d",
   "metadata": {
    "id": "nvxKjPZFhI5m",
    "papermill": {
     "duration": 0.011156,
     "end_time": "2023-07-06T07:39:12.227987",
     "exception": false,
     "start_time": "2023-07-06T07:39:12.216831",
     "status": "completed"
    },
    "tags": []
   },
   "source": [
    "and then install PyGeNN from wheel file"
   ]
  },
  {
   "cell_type": "code",
   "execution_count": 3,
   "id": "1c2b80c4",
   "metadata": {
    "execution": {
     "iopub.execute_input": "2023-07-06T07:39:12.252781Z",
     "iopub.status.busy": "2023-07-06T07:39:12.251442Z",
     "iopub.status.idle": "2023-07-06T07:39:24.436772Z",
     "shell.execute_reply": "2023-07-06T07:39:24.435584Z"
    },
    "executionInfo": {
     "elapsed": 3707,
     "status": "ok",
     "timestamp": 1686479782747,
     "user": {
      "displayName": "xy fu",
      "userId": "08788996763556351037"
     },
     "user_tz": -480
    },
    "id": "xcUDzEHrhF-I",
    "outputId": "da08d6b6-42f3-46a1-f6cf-cbce847d0cbd",
    "papermill": {
     "duration": 12.199817,
     "end_time": "2023-07-06T07:39:24.438994",
     "exception": false,
     "start_time": "2023-07-06T07:39:12.239177",
     "status": "completed"
    },
    "tags": []
   },
   "outputs": [
    {
     "name": "stdout",
     "output_type": "stream",
     "text": [
      "Processing ./pygenn-4.8.1-cp310-cp310-linux_x86_64.whl\r\n",
      "Requirement already satisfied: numpy>=1.17 in /opt/conda/lib/python3.10/site-packages (from pygenn==4.8.1) (1.23.5)\r\n",
      "Requirement already satisfied: six in /opt/conda/lib/python3.10/site-packages (from pygenn==4.8.1) (1.16.0)\r\n",
      "Requirement already satisfied: deprecated in /opt/conda/lib/python3.10/site-packages (from pygenn==4.8.1) (1.2.13)\r\n",
      "Requirement already satisfied: psutil in /opt/conda/lib/python3.10/site-packages (from pygenn==4.8.1) (5.9.3)\r\n",
      "Requirement already satisfied: wrapt<2,>=1.10 in /opt/conda/lib/python3.10/site-packages (from deprecated->pygenn==4.8.1) (1.14.1)\r\n",
      "Installing collected packages: pygenn\r\n",
      "Successfully installed pygenn-4.8.1\r\n",
      "\u001b[33mWARNING: Running pip as the 'root' user can result in broken permissions and conflicting behaviour with the system package manager. It is recommended to use a virtual environment instead: https://pip.pypa.io/warnings/venv\u001b[0m\u001b[33m\r\n",
      "\u001b[0mNote: you may need to restart the kernel to use updated packages.\n"
     ]
    }
   ],
   "source": [
    "pip install pygenn-4.8.1-cp310-cp310-linux_x86_64.whl"
   ]
  },
  {
   "cell_type": "markdown",
   "id": "0894162c",
   "metadata": {
    "id": "tyvGBCg5rIuM",
    "papermill": {
     "duration": 0.011245,
     "end_time": "2023-07-06T07:39:24.462651",
     "exception": false,
     "start_time": "2023-07-06T07:39:24.451406",
     "status": "completed"
    },
    "tags": []
   },
   "source": [
    "and checkout mlGeNN from git and install"
   ]
  },
  {
   "cell_type": "code",
   "execution_count": 4,
   "id": "5fbe7646",
   "metadata": {
    "execution": {
     "iopub.execute_input": "2023-07-06T07:39:24.487963Z",
     "iopub.status.busy": "2023-07-06T07:39:24.487639Z",
     "iopub.status.idle": "2023-07-06T07:39:45.637715Z",
     "shell.execute_reply": "2023-07-06T07:39:45.636364Z"
    },
    "executionInfo": {
     "elapsed": 10376,
     "status": "ok",
     "timestamp": 1686479793118,
     "user": {
      "displayName": "xy fu",
      "userId": "08788996763556351037"
     },
     "user_tz": -480
    },
    "id": "tEpYAq5kq3SF",
    "outputId": "6a9e39cd-a041-4831-e60c-fa697b34b891",
    "papermill": {
     "duration": 21.165247,
     "end_time": "2023-07-06T07:39:45.639952",
     "exception": false,
     "start_time": "2023-07-06T07:39:24.474705",
     "status": "completed"
    },
    "tags": []
   },
   "outputs": [
    {
     "name": "stdout",
     "output_type": "stream",
     "text": [
      "Cloning into 'ml_genn'...\r\n",
      "remote: Enumerating objects: 6804, done.\u001b[K\r\n",
      "remote: Counting objects: 100% (2621/2621), done.\u001b[K\r\n",
      "remote: Compressing objects: 100% (995/995), done.\u001b[K\r\n",
      "remote: Total 6804 (delta 1637), reused 2507 (delta 1599), pack-reused 4183\u001b[K\r\n",
      "Receiving objects: 100% (6804/6804), 37.14 MiB | 18.89 MiB/s, done.\r\n",
      "Resolving deltas: 100% (4482/4482), done.\r\n",
      "/kaggle/working/ml_genn\n",
      "Note: switching to '983400ba'.\r\n",
      "\r\n",
      "You are in 'detached HEAD' state. You can look around, make experimental\r\n",
      "changes and commit them, and you can discard any commits you make in this\r\n",
      "state without impacting any branches by switching back to a branch.\r\n",
      "\r\n",
      "If you want to create a new branch to retain commits you create, you may\r\n",
      "do so (now or later) by using -c with the switch command. Example:\r\n",
      "\r\n",
      "  git switch -c <new-branch-name>\r\n",
      "\r\n",
      "Or undo this operation with:\r\n",
      "\r\n",
      "  git switch -\r\n",
      "\r\n",
      "Turn off this advice by setting config variable advice.detachedHead to false\r\n",
      "\r\n",
      "HEAD is now at 983400b softmax is required for eprop validation split\r\n",
      "Processing ./ml_genn\r\n",
      "  Preparing metadata (setup.py) ... \u001b[?25l-\b \b\\\b \bdone\r\n",
      "\u001b[?25hRequirement already satisfied: pygenn>=4.8.1 in /opt/conda/lib/python3.10/site-packages (from ml-genn==2.0.0) (4.8.1)\r\n",
      "Collecting enum-compat (from ml-genn==2.0.0)\r\n",
      "  Downloading enum_compat-0.0.3-py3-none-any.whl (1.3 kB)\r\n",
      "Requirement already satisfied: tqdm>=4.27.0 in /opt/conda/lib/python3.10/site-packages (from ml-genn==2.0.0) (4.64.1)\r\n",
      "Requirement already satisfied: deprecated in /opt/conda/lib/python3.10/site-packages (from ml-genn==2.0.0) (1.2.13)\r\n",
      "Requirement already satisfied: numpy>=1.17 in /opt/conda/lib/python3.10/site-packages (from pygenn>=4.8.1->ml-genn==2.0.0) (1.23.5)\r\n",
      "Requirement already satisfied: six in /opt/conda/lib/python3.10/site-packages (from pygenn>=4.8.1->ml-genn==2.0.0) (1.16.0)\r\n",
      "Requirement already satisfied: psutil in /opt/conda/lib/python3.10/site-packages (from pygenn>=4.8.1->ml-genn==2.0.0) (5.9.3)\r\n",
      "Requirement already satisfied: wrapt<2,>=1.10 in /opt/conda/lib/python3.10/site-packages (from deprecated->ml-genn==2.0.0) (1.14.1)\r\n",
      "Building wheels for collected packages: ml-genn\r\n",
      "  Building wheel for ml-genn (setup.py) ... \u001b[?25l-\b \b\\\b \b|\b \bdone\r\n",
      "\u001b[?25h  Created wheel for ml-genn: filename=ml_genn-2.0.0-py3-none-any.whl size=98347 sha256=14b65e245d2fe8d3fadc2f51f3ae7f0f896db23954fc2ac3cbedb8cc739a6cc9\r\n",
      "  Stored in directory: /tmp/pip-ephem-wheel-cache-s4bkn98z/wheels/5e/00/79/9084c5caeb3408e827f59ba46d346351116c8818bfdedba8db\r\n",
      "Successfully built ml-genn\r\n",
      "Installing collected packages: enum-compat, ml-genn\r\n",
      "Successfully installed enum-compat-0.0.3 ml-genn-2.0.0\r\n",
      "\u001b[33mWARNING: Running pip as the 'root' user can result in broken permissions and conflicting behaviour with the system package manager. It is recommended to use a virtual environment instead: https://pip.pypa.io/warnings/venv\u001b[0m\u001b[33m\r\n",
      "\u001b[0m/kaggle/working\n",
      "popd -> /kaggle/working\n"
     ]
    }
   ],
   "source": [
    "!git clone https://github.com/genn-team/ml_genn.git\n",
    "%pushd ml_genn\n",
    "!git checkout 983400ba\n",
    "!pip install ./ml_genn\n",
    "%popd"
   ]
  },
  {
   "cell_type": "markdown",
   "id": "4c7f1c2c",
   "metadata": {
    "id": "cAm5bzGvAb17",
    "papermill": {
     "duration": 0.014716,
     "end_time": "2023-07-06T07:39:45.670125",
     "exception": false,
     "start_time": "2023-07-06T07:39:45.655409",
     "status": "completed"
    },
    "tags": []
   },
   "source": [
    "Set environment variable to allow GeNN to find CUDA"
   ]
  },
  {
   "cell_type": "code",
   "execution_count": 5,
   "id": "157e93e7",
   "metadata": {
    "execution": {
     "iopub.execute_input": "2023-07-06T07:39:45.701554Z",
     "iopub.status.busy": "2023-07-06T07:39:45.700614Z",
     "iopub.status.idle": "2023-07-06T07:39:45.707895Z",
     "shell.execute_reply": "2023-07-06T07:39:45.707026Z"
    },
    "executionInfo": {
     "elapsed": 6,
     "status": "ok",
     "timestamp": 1686479793118,
     "user": {
      "displayName": "xy fu",
      "userId": "08788996763556351037"
     },
     "user_tz": -480
    },
    "id": "cIzSgI5Q8Wvq",
    "outputId": "d8c5cf8d-a4ce-45e9-a8b6-5dec84677674",
    "papermill": {
     "duration": 0.025139,
     "end_time": "2023-07-06T07:39:45.709912",
     "exception": false,
     "start_time": "2023-07-06T07:39:45.684773",
     "status": "completed"
    },
    "tags": []
   },
   "outputs": [
    {
     "name": "stdout",
     "output_type": "stream",
     "text": [
      "env: CUDA_PATH=/usr/local/cuda\n"
     ]
    }
   ],
   "source": [
    "%env CUDA_PATH=/usr/local/cuda"
   ]
  },
  {
   "cell_type": "markdown",
   "id": "cd1a6995",
   "metadata": {
    "id": "LTbQVzejhc53",
    "papermill": {
     "duration": 0.014275,
     "end_time": "2023-07-06T07:39:45.740196",
     "exception": false,
     "start_time": "2023-07-06T07:39:45.725921",
     "status": "completed"
    },
    "tags": []
   },
   "source": [
    "## Load oneshot classification data from Onimiglot"
   ]
  },
  {
   "cell_type": "markdown",
   "id": "c6928f63",
   "metadata": {
    "id": "HvYXb8UTR0x1",
    "papermill": {
     "duration": 0.014116,
     "end_time": "2023-07-06T07:39:45.768876",
     "exception": false,
     "start_time": "2023-07-06T07:39:45.754760",
     "status": "completed"
    },
    "tags": []
   },
   "source": [
    "## Process data"
   ]
  },
  {
   "cell_type": "code",
   "execution_count": 6,
   "id": "e8e6e44f",
   "metadata": {
    "execution": {
     "iopub.execute_input": "2023-07-06T07:39:45.799416Z",
     "iopub.status.busy": "2023-07-06T07:39:45.799094Z",
     "iopub.status.idle": "2023-07-06T07:39:45.803424Z",
     "shell.execute_reply": "2023-07-06T07:39:45.802490Z"
    },
    "papermill": {
     "duration": 0.022075,
     "end_time": "2023-07-06T07:39:45.805390",
     "exception": false,
     "start_time": "2023-07-06T07:39:45.783315",
     "status": "completed"
    },
    "tags": []
   },
   "outputs": [],
   "source": [
    "import numpy as np\n",
    "import matplotlib.pyplot as plt"
   ]
  },
  {
   "cell_type": "code",
   "execution_count": 7,
   "id": "b63e9b8d",
   "metadata": {
    "execution": {
     "iopub.execute_input": "2023-07-06T07:39:45.838308Z",
     "iopub.status.busy": "2023-07-06T07:39:45.837439Z",
     "iopub.status.idle": "2023-07-06T07:39:46.082702Z",
     "shell.execute_reply": "2023-07-06T07:39:46.081790Z"
    },
    "executionInfo": {
     "elapsed": 21,
     "status": "ok",
     "timestamp": 1686479812858,
     "user": {
      "displayName": "xy fu",
      "userId": "08788996763556351037"
     },
     "user_tz": -480
    },
    "id": "agqWFZjickfU",
    "papermill": {
     "duration": 0.263173,
     "end_time": "2023-07-06T07:39:46.085119",
     "exception": false,
     "start_time": "2023-07-06T07:39:45.821946",
     "status": "completed"
    },
    "tags": []
   },
   "outputs": [],
   "source": [
    "from ml_genn import InputLayer, Layer, SequentialNetwork\n",
    "from ml_genn.callbacks import Checkpoint\n",
    "from ml_genn.compilers import EventPropCompiler, InferenceCompiler\n",
    "from ml_genn.connectivity import Dense\n",
    "from ml_genn.initializers import Normal\n",
    "from ml_genn.neurons import LeakyIntegrate, LeakyIntegrateFire, SpikeInput\n",
    "from ml_genn.optimisers import Adam\n",
    "from ml_genn.serialisers import Numpy\n",
    "from ml_genn.synapses import Exponential\n",
    "\n",
    "from ml_genn.utils.data import (calc_latest_spike_time, linear_latency_encode_data)\n",
    "\n",
    "from ml_genn.compilers.event_prop_compiler import default_params"
   ]
  },
  {
   "cell_type": "code",
   "execution_count": 8,
   "id": "0671041c",
   "metadata": {
    "execution": {
     "iopub.execute_input": "2023-07-06T07:39:46.116219Z",
     "iopub.status.busy": "2023-07-06T07:39:46.115899Z",
     "iopub.status.idle": "2023-07-06T07:39:46.119967Z",
     "shell.execute_reply": "2023-07-06T07:39:46.119118Z"
    },
    "executionInfo": {
     "elapsed": 22,
     "status": "ok",
     "timestamp": 1686479812857,
     "user": {
      "displayName": "xy fu",
      "userId": "08788996763556351037"
     },
     "user_tz": -480
    },
    "id": "peeC5Y_rS5oU",
    "papermill": {
     "duration": 0.0218,
     "end_time": "2023-07-06T07:39:46.121822",
     "exception": false,
     "start_time": "2023-07-06T07:39:46.100022",
     "status": "completed"
    },
    "tags": []
   },
   "outputs": [],
   "source": [
    "data_url = '/kaggle/input/one-shot-classification'"
   ]
  },
  {
   "cell_type": "code",
   "execution_count": 9,
   "id": "84909b6f",
   "metadata": {
    "execution": {
     "iopub.execute_input": "2023-07-06T07:39:46.152516Z",
     "iopub.status.busy": "2023-07-06T07:39:46.151885Z",
     "iopub.status.idle": "2023-07-06T07:39:46.166331Z",
     "shell.execute_reply": "2023-07-06T07:39:46.165326Z"
    },
    "papermill": {
     "duration": 0.031567,
     "end_time": "2023-07-06T07:39:46.168287",
     "exception": false,
     "start_time": "2023-07-06T07:39:46.136720",
     "status": "completed"
    },
    "tags": []
   },
   "outputs": [],
   "source": [
    "from PIL import Image\n",
    "import os\n",
    "\n",
    "def load_images(path):\n",
    "    # Lists to store the images and labels\n",
    "    train_images, train_labels, test_images, test_labels = [], [], [], []\n",
    "\n",
    "    # List of all directories\n",
    "    dir_list = os.listdir(path)\n",
    "    \n",
    "    # for one file.\n",
    "    count = 0\n",
    "    # For each directory\n",
    "    for dir in dir_list:\n",
    "        if (count == 1):\n",
    "            break\n",
    "        print(dir)\n",
    "        count += 1\n",
    "\n",
    "        # Load the mapping of test images to class labels\n",
    "        with open(path + '/' + dir + '/class_labels.txt', 'r') as f:\n",
    "            labels_map = {line.split()[0]: line.split()[1] for line in f.readlines()}\n",
    "        # Load and preprocess the training images\n",
    "        train_list = os.listdir(path + '/' + dir + '/training')\n",
    "        for img_name in train_list:\n",
    "            image = Image.open(path + '/' + dir + '/training/' + img_name)\n",
    "           \n",
    "            image = image.resize((28, 28))\n",
    "            image = image.convert('L')  # Convert image to grayscale\n",
    "            image = np.array(image)\n",
    "#             print(image)\n",
    "            image = np.where(image > 128, 0, 255)  # Binarize image with new scale range\n",
    "            train_images.append(image)\n",
    "            train_labels.append(img_name)  # The image name is the class label\n",
    "\n",
    "        # Load and preprocess the test images\n",
    "        test_list = os.listdir(path + '/' + dir + '/test')\n",
    "        for img_name in test_list:\n",
    "            image = Image.open(path + '/' + dir + '/test/' + img_name)\n",
    "            image = image.resize((28, 28))\n",
    "            image = image.convert('L')  # Convert image to grayscale\n",
    "            image = np.array(image)\n",
    "            image = np.where(image > 128, 0, 255)  # Binarize image with new scale range\n",
    "            test_images.append(image)\n",
    "            test_labels.append(labels_map[dir + '/test/' + img_name])  # Look up the class label in the labels map with the correct key\n",
    "\n",
    "    # Convert the lists to numpy arrays\n",
    "    train_images = np.array(train_images)\n",
    "    train_labels = np.array(train_labels)\n",
    "    test_images = np.array(test_images)\n",
    "    test_labels = np.array(test_labels)\n",
    "    \n",
    "    # Extract the class numbers from the labels\n",
    "    test_labels = np.array([int(label.split('/')[-1].split('.')[0][5:]) for label in test_labels])\n",
    "\n",
    "    # Convert the class numbers to uint8 data type\n",
    "    test_labels = test_labels.astype(np.uint8)\n",
    "    \n",
    "    # Extract the class numbers from the labels\n",
    "    train_labels = np.array([int(label.split('/')[-1].split('.')[0][5:]) for label in train_labels])\n",
    "\n",
    "    # Convert the class numbers to uint8 data type\n",
    "    train_labels = train_labels.astype(np.uint8)\n",
    "\n",
    "\n",
    "    return train_images, train_labels, test_images, test_labels\n"
   ]
  },
  {
   "cell_type": "code",
   "execution_count": 10,
   "id": "8457fb44",
   "metadata": {
    "execution": {
     "iopub.execute_input": "2023-07-06T07:39:46.199317Z",
     "iopub.status.busy": "2023-07-06T07:39:46.198542Z",
     "iopub.status.idle": "2023-07-06T07:39:46.597559Z",
     "shell.execute_reply": "2023-07-06T07:39:46.596652Z"
    },
    "papermill": {
     "duration": 0.41686,
     "end_time": "2023-07-06T07:39:46.599963",
     "exception": false,
     "start_time": "2023-07-06T07:39:46.183103",
     "status": "completed"
    },
    "tags": []
   },
   "outputs": [
    {
     "name": "stdout",
     "output_type": "stream",
     "text": [
      "run12\n"
     ]
    }
   ],
   "source": [
    "train_images, train_labels, test_images, test_labels = load_images(data_url)"
   ]
  },
  {
   "cell_type": "code",
   "execution_count": 11,
   "id": "c2b66994",
   "metadata": {
    "execution": {
     "iopub.execute_input": "2023-07-06T07:39:46.629983Z",
     "iopub.status.busy": "2023-07-06T07:39:46.629716Z",
     "iopub.status.idle": "2023-07-06T07:39:46.638945Z",
     "shell.execute_reply": "2023-07-06T07:39:46.638038Z"
    },
    "papermill": {
     "duration": 0.026449,
     "end_time": "2023-07-06T07:39:46.640992",
     "exception": false,
     "start_time": "2023-07-06T07:39:46.614543",
     "status": "completed"
    },
    "tags": []
   },
   "outputs": [],
   "source": [
    "def expand_data(train_images, train_labels):\n",
    "    expanded_train_images = np.repeat(train_images, 100, axis=0)\n",
    "    expanded_train_labels = np.repeat(train_labels, 100, axis=0)\n",
    "    return expanded_train_images, expanded_train_labels\n",
    "\n",
    "# Usage example\n",
    "# train_images, train_labels, test_images, test_labels = load_images(path)\n",
    "train_images, train_labels = expand_data(train_images, train_labels)\n"
   ]
  },
  {
   "cell_type": "code",
   "execution_count": 12,
   "id": "e8eec8cf",
   "metadata": {
    "execution": {
     "iopub.execute_input": "2023-07-06T07:39:46.671696Z",
     "iopub.status.busy": "2023-07-06T07:39:46.670839Z",
     "iopub.status.idle": "2023-07-06T07:39:46.683512Z",
     "shell.execute_reply": "2023-07-06T07:39:46.682562Z"
    },
    "papermill": {
     "duration": 0.030282,
     "end_time": "2023-07-06T07:39:46.685526",
     "exception": false,
     "start_time": "2023-07-06T07:39:46.655244",
     "status": "completed"
    },
    "tags": []
   },
   "outputs": [
    {
     "name": "stdout",
     "output_type": "stream",
     "text": [
      "28\n",
      "28\n",
      "[[  0   0   0   0   0   0   0   0   0   0   0   0   0   0   0   0   0   0\n",
      "    0   0   0   0   0   0   0   0   0   0]\n",
      " [  0   0   0   0   0   0   0   0   0   0   0   0   0   0   0   0   0   0\n",
      "    0   0   0   0   0   0   0   0   0   0]\n",
      " [  0   0   0   0   0   0   0   0   0   0   0   0   0   0   0   0   0   0\n",
      "    0   0   0   0   0   0   0   0   0   0]\n",
      " [  0   0   0   0   0   0   0   0   0   0   0   0   0   0   0   0   0   0\n",
      "    0   0   0   0   0   0   0   0   0   0]\n",
      " [  0   0   0   0   0   0   0   0   0   0   0   0   0   0   0   0   0   0\n",
      "    0   0   0   0   0   0   0   0   0   0]\n",
      " [  0   0   0   0   0   0   0   0   0   0   0   0   0   0   0   0   0   0\n",
      "    0   0   0   0   0   0   0   0   0   0]\n",
      " [  0   0   0   0   0   0   0   0   0   0   0   0   0   0   0   0   0   0\n",
      "    0   0   0   0   0   0   0   0   0   0]\n",
      " [  0   0   0   0   0   0   0   0   0   0   0   0   0   0   0   0   0   0\n",
      "    0   0   0   0   0   0   0   0   0   0]\n",
      " [  0   0   0   0   0   0   0   0   0   0   0   0   0   0   0   0   0   0\n",
      "    0   0   0   0   0   0   0   0   0   0]\n",
      " [  0   0   0   0   0   0   0   0   0 255 255 255 255 255 255 255   0   0\n",
      "  255 255   0   0   0   0   0   0   0   0]\n",
      " [  0   0   0   0   0   0   0   0 255 255   0   0   0   0   0 255   0   0\n",
      "  255 255   0   0   0   0   0   0   0   0]\n",
      " [  0   0   0   0   0   0 255 255 255   0   0   0   0   0   0 255   0   0\n",
      "    0 255   0   0   0   0   0   0   0   0]\n",
      " [  0   0   0   0   0   0 255 255 255 255   0   0   0   0   0 255   0   0\n",
      "    0 255   0   0   0   0   0   0   0   0]\n",
      " [  0   0   0   0   0   0   0 255   0 255 255   0   0   0   0 255   0   0\n",
      "    0 255   0   0   0   0   0   0   0   0]\n",
      " [  0   0   0   0   0   0   0 255   0 255 255   0   0   0   0 255   0   0\n",
      "  255 255   0   0   0   0   0   0   0   0]\n",
      " [  0   0   0   0   0   0   0 255 255 255 255   0   0   0 255 255 255 255\n",
      "  255 255   0   0   0   0   0   0   0   0]\n",
      " [  0   0   0   0   0   0   0 255 255 255   0   0   0   0   0   0   0   0\n",
      "    0   0   0   0   0   0   0   0   0   0]\n",
      " [  0   0   0   0   0   0   0   0   0   0   0   0   0   0   0   0   0   0\n",
      "    0   0   0   0   0   0   0   0   0   0]\n",
      " [  0   0   0   0   0   0   0   0   0   0   0   0   0   0   0   0   0   0\n",
      "    0   0   0   0   0   0   0   0   0   0]\n",
      " [  0   0   0   0   0   0   0   0   0   0   0   0   0   0   0   0   0   0\n",
      "    0   0   0   0   0   0   0   0   0   0]\n",
      " [  0   0   0   0   0   0   0   0   0   0   0   0   0   0   0   0   0   0\n",
      "    0   0   0   0   0   0   0   0   0   0]\n",
      " [  0   0   0   0   0   0   0   0   0   0   0   0   0   0   0   0   0   0\n",
      "    0   0   0   0   0   0   0   0   0   0]\n",
      " [  0   0   0   0   0   0   0   0   0   0   0   0   0   0   0   0   0   0\n",
      "    0   0   0   0   0   0   0   0   0   0]\n",
      " [  0   0   0   0   0   0   0   0   0   0   0   0   0   0   0   0   0   0\n",
      "    0   0   0   0   0   0   0   0   0   0]\n",
      " [  0   0   0   0   0   0   0   0   0   0   0   0   0   0   0   0   0   0\n",
      "    0   0   0   0   0   0   0   0   0   0]\n",
      " [  0   0   0   0   0   0   0   0   0   0   0   0   0   0   0   0   0   0\n",
      "    0   0   0   0   0   0   0   0   0   0]\n",
      " [  0   0   0   0   0   0   0   0   0   0   0   0   0   0   0   0   0   0\n",
      "    0   0   0   0   0   0   0   0   0   0]\n",
      " [  0   0   0   0   0   0   0   0   0   0   0   0   0   0   0   0   0   0\n",
      "    0   0   0   0   0   0   0   0   0   0]]\n"
     ]
    },
    {
     "data": {
      "text/plain": [
       "2000"
      ]
     },
     "execution_count": 12,
     "metadata": {},
     "output_type": "execute_result"
    }
   ],
   "source": [
    "print(len(train_images[0]))\n",
    "print(len(train_images[0][0]))\n",
    "print(train_images[0])\n",
    "len(train_images)"
   ]
  },
  {
   "cell_type": "code",
   "execution_count": 13,
   "id": "bdc5d1c4",
   "metadata": {
    "execution": {
     "iopub.execute_input": "2023-07-06T07:39:46.715991Z",
     "iopub.status.busy": "2023-07-06T07:39:46.715679Z",
     "iopub.status.idle": "2023-07-06T07:39:46.726114Z",
     "shell.execute_reply": "2023-07-06T07:39:46.723149Z"
    },
    "papermill": {
     "duration": 0.027842,
     "end_time": "2023-07-06T07:39:46.728081",
     "exception": false,
     "start_time": "2023-07-06T07:39:46.700239",
     "status": "completed"
    },
    "tags": []
   },
   "outputs": [
    {
     "name": "stdout",
     "output_type": "stream",
     "text": [
      "28\n",
      "28\n"
     ]
    },
    {
     "data": {
      "text/plain": [
       "array([[[0, 0, 0, ..., 0, 0, 0],\n",
       "        [0, 0, 0, ..., 0, 0, 0],\n",
       "        [0, 0, 0, ..., 0, 0, 0],\n",
       "        ...,\n",
       "        [0, 0, 0, ..., 0, 0, 0],\n",
       "        [0, 0, 0, ..., 0, 0, 0],\n",
       "        [0, 0, 0, ..., 0, 0, 0]],\n",
       "\n",
       "       [[0, 0, 0, ..., 0, 0, 0],\n",
       "        [0, 0, 0, ..., 0, 0, 0],\n",
       "        [0, 0, 0, ..., 0, 0, 0],\n",
       "        ...,\n",
       "        [0, 0, 0, ..., 0, 0, 0],\n",
       "        [0, 0, 0, ..., 0, 0, 0],\n",
       "        [0, 0, 0, ..., 0, 0, 0]],\n",
       "\n",
       "       [[0, 0, 0, ..., 0, 0, 0],\n",
       "        [0, 0, 0, ..., 0, 0, 0],\n",
       "        [0, 0, 0, ..., 0, 0, 0],\n",
       "        ...,\n",
       "        [0, 0, 0, ..., 0, 0, 0],\n",
       "        [0, 0, 0, ..., 0, 0, 0],\n",
       "        [0, 0, 0, ..., 0, 0, 0]],\n",
       "\n",
       "       ...,\n",
       "\n",
       "       [[0, 0, 0, ..., 0, 0, 0],\n",
       "        [0, 0, 0, ..., 0, 0, 0],\n",
       "        [0, 0, 0, ..., 0, 0, 0],\n",
       "        ...,\n",
       "        [0, 0, 0, ..., 0, 0, 0],\n",
       "        [0, 0, 0, ..., 0, 0, 0],\n",
       "        [0, 0, 0, ..., 0, 0, 0]],\n",
       "\n",
       "       [[0, 0, 0, ..., 0, 0, 0],\n",
       "        [0, 0, 0, ..., 0, 0, 0],\n",
       "        [0, 0, 0, ..., 0, 0, 0],\n",
       "        ...,\n",
       "        [0, 0, 0, ..., 0, 0, 0],\n",
       "        [0, 0, 0, ..., 0, 0, 0],\n",
       "        [0, 0, 0, ..., 0, 0, 0]],\n",
       "\n",
       "       [[0, 0, 0, ..., 0, 0, 0],\n",
       "        [0, 0, 0, ..., 0, 0, 0],\n",
       "        [0, 0, 0, ..., 0, 0, 0],\n",
       "        ...,\n",
       "        [0, 0, 0, ..., 0, 0, 0],\n",
       "        [0, 0, 0, ..., 0, 0, 0],\n",
       "        [0, 0, 0, ..., 0, 0, 0]]])"
      ]
     },
     "execution_count": 13,
     "metadata": {},
     "output_type": "execute_result"
    }
   ],
   "source": [
    "print(len(test_images[0]))\n",
    "print(len(test_images[0][0]))\n",
    "test_images"
   ]
  },
  {
   "cell_type": "code",
   "execution_count": 14,
   "id": "f130b9ef",
   "metadata": {
    "execution": {
     "iopub.execute_input": "2023-07-06T07:39:46.758999Z",
     "iopub.status.busy": "2023-07-06T07:39:46.758253Z",
     "iopub.status.idle": "2023-07-06T07:39:46.764256Z",
     "shell.execute_reply": "2023-07-06T07:39:46.763326Z"
    },
    "papermill": {
     "duration": 0.023842,
     "end_time": "2023-07-06T07:39:46.766518",
     "exception": false,
     "start_time": "2023-07-06T07:39:46.742676",
     "status": "completed"
    },
    "tags": []
   },
   "outputs": [
    {
     "data": {
      "text/plain": [
       "array([16, 16, 16, ...,  4,  4,  4], dtype=uint8)"
      ]
     },
     "execution_count": 14,
     "metadata": {},
     "output_type": "execute_result"
    }
   ],
   "source": [
    "train_labels"
   ]
  },
  {
   "cell_type": "code",
   "execution_count": 15,
   "id": "98e509b4",
   "metadata": {
    "execution": {
     "iopub.execute_input": "2023-07-06T07:39:46.798473Z",
     "iopub.status.busy": "2023-07-06T07:39:46.797742Z",
     "iopub.status.idle": "2023-07-06T07:39:46.803735Z",
     "shell.execute_reply": "2023-07-06T07:39:46.802696Z"
    },
    "papermill": {
     "duration": 0.023473,
     "end_time": "2023-07-06T07:39:46.805822",
     "exception": false,
     "start_time": "2023-07-06T07:39:46.782349",
     "status": "completed"
    },
    "tags": []
   },
   "outputs": [
    {
     "data": {
      "text/plain": [
       "array([ 9, 16,  8, 12,  6,  4, 10, 13, 19,  3, 14,  7,  2, 18,  5, 11, 17,\n",
       "       15,  1, 20], dtype=uint8)"
      ]
     },
     "execution_count": 15,
     "metadata": {},
     "output_type": "execute_result"
    }
   ],
   "source": [
    "test_labels"
   ]
  },
  {
   "cell_type": "code",
   "execution_count": 16,
   "id": "0904a434",
   "metadata": {
    "execution": {
     "iopub.execute_input": "2023-07-06T07:39:46.840490Z",
     "iopub.status.busy": "2023-07-06T07:39:46.839764Z",
     "iopub.status.idle": "2023-07-06T07:39:47.496021Z",
     "shell.execute_reply": "2023-07-06T07:39:47.495072Z"
    },
    "papermill": {
     "duration": 0.674518,
     "end_time": "2023-07-06T07:39:47.498356",
     "exception": false,
     "start_time": "2023-07-06T07:39:46.823838",
     "status": "completed"
    },
    "tags": []
   },
   "outputs": [
    {
     "data": {
      "image/png": "[encoded data removed]",
      "text/plain": [
       "<Figure size 1000x800 with 6 Axes>"
      ]
     },
     "metadata": {},
     "output_type": "display_data"
    }
   ],
   "source": [
    "# import cv2\n",
    "# Define the number of rows and columns in the grid\n",
    "num_rows = 2\n",
    "num_cols = 3\n",
    "\n",
    "# Create a grid of subplots\n",
    "fig, axes = plt.subplots(num_rows, num_cols, figsize=(10, 8))\n",
    "\n",
    "# Iterate through the images and plot them in the grid\n",
    "for i, ax in enumerate(axes.flat):\n",
    "    # Display the image\n",
    "    ax.imshow(train_images[i], cmap='gray')\n",
    "    ax.set_title(f\"Image {i}\")\n",
    "    ax.axis('off')\n",
    "\n",
    "# Adjust the spacing between subplots\n",
    "plt.tight_layout()\n",
    "\n",
    "# Show the plot\n",
    "plt.show()"
   ]
  },
  {
   "cell_type": "markdown",
   "id": "501473a4",
   "metadata": {
    "id": "ojCqyc2zdaKU",
    "papermill": {
     "duration": 0.015687,
     "end_time": "2023-07-06T07:39:47.530344",
     "exception": false,
     "start_time": "2023-07-06T07:39:47.514657",
     "status": "completed"
    },
    "tags": []
   },
   "source": [
    "# Build modle"
   ]
  },
  {
   "cell_type": "markdown",
   "id": "f3e29fbd",
   "metadata": {
    "id": "X2hcCpdlzaZA",
    "papermill": {
     "duration": 0.01599,
     "end_time": "2023-07-06T07:39:47.561882",
     "exception": false,
     "start_time": "2023-07-06T07:39:47.545892",
     "status": "completed"
    },
    "tags": []
   },
   "source": [
    "\n",
    "##Parameters\n",
    "\n",
    "Define some model parameters\n"
   ]
  },
  {
   "cell_type": "code",
   "execution_count": 17,
   "id": "255ff938",
   "metadata": {
    "execution": {
     "iopub.execute_input": "2023-07-06T07:39:47.605173Z",
     "iopub.status.busy": "2023-07-06T07:39:47.604838Z",
     "iopub.status.idle": "2023-07-06T07:39:47.611706Z",
     "shell.execute_reply": "2023-07-06T07:39:47.610578Z"
    },
    "executionInfo": {
     "elapsed": 302,
     "status": "ok",
     "timestamp": 1686479864589,
     "user": {
      "displayName": "xy fu",
      "userId": "08788996763556351037"
     },
     "user_tz": -480
    },
    "id": "x87G22iUzcEU",
    "papermill": {
     "duration": 0.032864,
     "end_time": "2023-07-06T07:39:47.613652",
     "exception": false,
     "start_time": "2023-07-06T07:39:47.580788",
     "status": "completed"
    },
    "tags": []
   },
   "outputs": [],
   "source": [
    "NUM_INPUT = 28 * 28\n",
    "NUM_HIDDEN = 128\n",
    "NUM_OUTPUT = 20\n",
    "BATCH_SIZE = 128"
   ]
  },
  {
   "cell_type": "markdown",
   "id": "e6da26fe",
   "metadata": {
    "id": "op6AInYzviqh",
    "papermill": {
     "duration": 0.026856,
     "end_time": "2023-07-06T07:39:47.668679",
     "exception": false,
     "start_time": "2023-07-06T07:39:47.641823",
     "status": "completed"
    },
    "tags": []
   },
   "source": [
    "## Latency encoding\n",
    "There are numerous ways to encode images using spikes but here we are going to emit a single spike for each neuron at a time proportional the each pixel's grayscale."
   ]
  },
  {
   "cell_type": "code",
   "execution_count": 18,
   "id": "58c43452",
   "metadata": {
    "execution": {
     "iopub.execute_input": "2023-07-06T07:39:47.709550Z",
     "iopub.status.busy": "2023-07-06T07:39:47.709221Z",
     "iopub.status.idle": "2023-07-06T07:39:47.782503Z",
     "shell.execute_reply": "2023-07-06T07:39:47.781649Z"
    },
    "executionInfo": {
     "elapsed": 6,
     "status": "ok",
     "timestamp": 1686479864930,
     "user": {
      "displayName": "xy fu",
      "userId": "08788996763556351037"
     },
     "user_tz": -480
    },
    "id": "2m9780SfvWec",
    "papermill": {
     "duration": 0.092138,
     "end_time": "2023-07-06T07:39:47.784782",
     "exception": false,
     "start_time": "2023-07-06T07:39:47.692644",
     "status": "completed"
    },
    "tags": []
   },
   "outputs": [],
   "source": [
    "train_spikes = linear_latency_encode_data(train_images, 20.0)\n",
    "# print(train_spikes)"
   ]
  },
  {
   "cell_type": "markdown",
   "id": "390ffe56",
   "metadata": {
    "id": "iuwdL6IE2MuS",
    "papermill": {
     "duration": 0.019954,
     "end_time": "2023-07-06T07:39:47.821957",
     "exception": false,
     "start_time": "2023-07-06T07:39:47.802003",
     "status": "completed"
    },
    "tags": []
   },
   "source": [
    "## Network definition\n",
    "Because our network is entirely feedforward, we can define it as a ``SequentialNetwork`` where each layer is automatically connected to the previous layer. As we have converted the MNIST dataset to spikes, we will use a ``SpikeInput`` to inject these directly into the network. For our hidden layer we are going to use standard Leaky integrate-and-fire neurons. Finally, we are going to use a non-spiking output layer and read classifications out of this by determening the maximum of the output neurons' averaged membrane voltages.\n",
    "\n"
   ]
  },
  {
   "cell_type": "code",
   "execution_count": 19,
   "id": "8a1c9797",
   "metadata": {
    "execution": {
     "iopub.execute_input": "2023-07-06T07:39:47.859659Z",
     "iopub.status.busy": "2023-07-06T07:39:47.859342Z",
     "iopub.status.idle": "2023-07-06T07:39:47.867580Z",
     "shell.execute_reply": "2023-07-06T07:39:47.866687Z"
    },
    "executionInfo": {
     "elapsed": 6,
     "status": "ok",
     "timestamp": 1686479864931,
     "user": {
      "displayName": "xy fu",
      "userId": "08788996763556351037"
     },
     "user_tz": -480
    },
    "id": "C68EDXn6cj-O",
    "papermill": {
     "duration": 0.027225,
     "end_time": "2023-07-06T07:39:47.869531",
     "exception": false,
     "start_time": "2023-07-06T07:39:47.842306",
     "status": "completed"
    },
    "tags": []
   },
   "outputs": [],
   "source": [
    "# Create sequential model\n",
    "serialiser = Numpy(\"latency_mnist_checkpoints\")\n",
    "network = SequentialNetwork(default_params)\n",
    "with network:\n",
    "    # Populations\n",
    "    input = InputLayer(SpikeInput(max_spikes=BATCH_SIZE * NUM_INPUT),\n",
    "                                  NUM_INPUT)\n",
    "    hidden = Layer(Dense(Normal(mean=0.078, sd=0.045)), \n",
    "               LeakyIntegrateFire(v_thresh=1.0, tau_mem=25.0,  # changed v_thresh and tau_mem\n",
    "                                  tau_refrac=None),\n",
    "                                   NUM_HIDDEN, Exponential(5.0))\n",
    "\n",
    "    output = Layer(Dense(Normal(mean=0.2, sd=0.37)),\n",
    "                   LeakyIntegrate(tau_mem=20.0, readout=\"avg_var\"),\n",
    "                   NUM_OUTPUT, Exponential(5.0))"
   ]
  },
  {
   "cell_type": "markdown",
   "id": "06ba2844",
   "metadata": {
    "id": "9PCMgNPCz86O",
    "papermill": {
     "duration": 0.01545,
     "end_time": "2023-07-06T07:39:47.900153",
     "exception": false,
     "start_time": "2023-07-06T07:39:47.884703",
     "status": "completed"
    },
    "tags": []
   },
   "source": [
    "## Compilation\n",
    "In mlGeNN, in order to turn an abstract network description into something that can actually be used for training or inference you use a *compiler* class. Here, we use the ``EventPropCompiler`` to train with EventProp and specify batch size and how many timesteps to evaluate each example for as well as choosing our optimiser and loss function. Because this is a classification task, we want to use cross-entropy loss and, because our labels are specified in this way (rather than e.g. one-hot encoded), we use the sparse catgorical variant."
   ]
  },
  {
   "cell_type": "code",
   "execution_count": 20,
   "id": "c9cf40aa",
   "metadata": {
    "execution": {
     "iopub.execute_input": "2023-07-06T07:39:47.932576Z",
     "iopub.status.busy": "2023-07-06T07:39:47.932317Z",
     "iopub.status.idle": "2023-07-06T07:39:48.160209Z",
     "shell.execute_reply": "2023-07-06T07:39:48.159311Z"
    },
    "executionInfo": {
     "elapsed": 5,
     "status": "ok",
     "timestamp": 1686479864931,
     "user": {
      "displayName": "xy fu",
      "userId": "08788996763556351037"
     },
     "user_tz": -480
    },
    "id": "-7lzXzmQcgbt",
    "papermill": {
     "duration": 0.246848,
     "end_time": "2023-07-06T07:39:48.162816",
     "exception": false,
     "start_time": "2023-07-06T07:39:47.915968",
     "status": "completed"
    },
    "tags": []
   },
   "outputs": [],
   "source": [
    "compiler = EventPropCompiler(example_timesteps=20,\n",
    "                         losses=\"sparse_categorical_crossentropy\",\n",
    "                         optimiser=Adam(1e-2), batch_size=BATCH_SIZE)\n",
    "compiled_net = compiler.compile(network)"
   ]
  },
  {
   "cell_type": "markdown",
   "id": "70d6a2bd",
   "metadata": {
    "id": "ATwobw4Mw2LG",
    "papermill": {
     "duration": 0.015323,
     "end_time": "2023-07-06T07:39:48.193703",
     "exception": false,
     "start_time": "2023-07-06T07:39:48.178380",
     "status": "completed"
    },
    "tags": []
   },
   "source": [
    "# Training\n",
    "Now we will train the model for 10 epochs using our compiled network. To verify its performance we take 10% of the training data as a validation split and add an additional callback to checkpoint weights every epoch.\n",
    "\n"
   ]
  },
  {
   "cell_type": "code",
   "execution_count": 21,
   "id": "2cce652a",
   "metadata": {
    "execution": {
     "iopub.execute_input": "2023-07-06T07:39:48.226304Z",
     "iopub.status.busy": "2023-07-06T07:39:48.225476Z",
     "iopub.status.idle": "2023-07-06T07:40:41.432406Z",
     "shell.execute_reply": "2023-07-06T07:40:41.431339Z"
    },
    "executionInfo": {
     "elapsed": 488,
     "status": "error",
     "timestamp": 1686480363216,
     "user": {
      "displayName": "xy fu",
      "userId": "08788996763556351037"
     },
     "user_tz": -480
    },
    "id": "EEQyoL-zcu-A",
    "outputId": "247f6bb1-9349-421a-cd5c-79602e8ed097",
    "papermill": {
     "duration": 53.226116,
     "end_time": "2023-07-06T07:40:41.435095",
     "exception": false,
     "start_time": "2023-07-06T07:39:48.208979",
     "status": "completed"
    },
    "tags": []
   },
   "outputs": [
    {
     "name": "stderr",
     "output_type": "stream",
     "text": [
      "./EventPropCompiler_CODE/synapseUpdateCUDAOptim.cc(59): warning #177-D: variable \"shLg\" was declared but never referenced\n",
      "\n",
      "./EventPropCompiler_CODE/customUpdateCUDAOptim.cc(423): warning #177-D: variable \"batchOffset\" was declared but never referenced\n",
      "\n",
      "./EventPropCompiler_CODE/neuronUpdateCUDAOptim.cc(172): warning #177-D: variable \"lYTrue\" was declared but never referenced\n",
      "\n",
      "./EventPropCompiler_CODE/neuronUpdateCUDAOptim.cc(192): warning #177-D: variable \"backT\" was declared but never referenced\n",
      "\n",
      "./EventPropCompiler_CODE/neuronUpdateCUDAOptim.cc(172): warning #177-D: variable \"lYTrue\" was declared but never referenced\n",
      "\n",
      "./EventPropCompiler_CODE/synapseUpdateCUDAOptim.cc(59): warning #177-D: variable \"shLg\" was declared but never referenced\n",
      "\n",
      "./EventPropCompiler_CODE/neuronUpdateCUDAOptim.cc(192): warning #177-D: variable \"backT\" was declared but never referenced\n",
      "\n",
      "./EventPropCompiler_CODE/customUpdateCUDAOptim.cc(423): warning #177-D: variable \"batchOffset\" was declared but never referenced\n",
      "\n"
     ]
    },
    {
     "name": "stdout",
     "output_type": "stream",
     "text": [
      "make: Entering directory '/kaggle/working/EventPropCompiler_CODE'\n"
     ]
    },
    {
     "name": "stderr",
     "output_type": "stream",
     "text": [
      "customUpdate.cc(423): warning #177-D: variable \"batchOffset\" was declared but never referenced\n",
      "\n",
      "neuronUpdate.cc(172): warning #177-D: variable \"lYTrue\" was declared but never referenced\n",
      "\n",
      "neuronUpdate.cc(192): warning #177-D: variable \"backT\" was declared but never referenced\n",
      "\n",
      "synapseUpdate.cc(59): warning #177-D: variable \"shLg\" was declared but never referenced\n",
      "\n"
     ]
    },
    {
     "name": "stdout",
     "output_type": "stream",
     "text": [
      "make: Leaving directory '/kaggle/working/EventPropCompiler_CODE'\n"
     ]
    },
    {
     "data": {
      "application/vnd.jupyter.widget-view+json": {
       "model_id": "61eac9304b5e423592a7ae6d9c09adf7",
       "version_major": 2,
       "version_minor": 0
      },
      "text/plain": [
       "  0%|          | 0/15 [00:00<?, ?it/s]"
      ]
     },
     "metadata": {},
     "output_type": "display_data"
    },
    {
     "data": {
      "application/vnd.jupyter.widget-view+json": {
       "model_id": "cf5dcaad63d544959e385bba191c4f1d",
       "version_major": 2,
       "version_minor": 0
      },
      "text/plain": [
       "  0%|          | 0/2 [00:00<?, ?it/s]"
      ]
     },
     "metadata": {},
     "output_type": "display_data"
    }
   ],
   "source": [
    "with compiled_net:\n",
    "    # Evaluate model on numpy dataset\n",
    "    callbacks = [\"batch_progress_bar\", Checkpoint(serialiser)]\n",
    "    compiled_net.train({input: train_spikes},\n",
    "            {output:train_labels},\n",
    "            num_epochs=40, shuffle=True,\n",
    "            validation_split=0.1,\n",
    "            callbacks=callbacks)"
   ]
  },
  {
   "cell_type": "markdown",
   "id": "fc93f556",
   "metadata": {
    "papermill": {
     "duration": 0.015895,
     "end_time": "2023-07-06T07:40:41.469244",
     "exception": false,
     "start_time": "2023-07-06T07:40:41.453349",
     "status": "completed"
    },
    "tags": []
   },
   "source": [
    "## Evaluate\n",
    "\n",
    "\n",
    "Load weights checkpointed from last epoch:"
   ]
  },
  {
   "cell_type": "code",
   "execution_count": 22,
   "id": "78eb73c9",
   "metadata": {
    "execution": {
     "iopub.execute_input": "2023-07-06T07:40:41.504506Z",
     "iopub.status.busy": "2023-07-06T07:40:41.502892Z",
     "iopub.status.idle": "2023-07-06T07:40:41.512221Z",
     "shell.execute_reply": "2023-07-06T07:40:41.511376Z"
    },
    "papermill": {
     "duration": 0.028387,
     "end_time": "2023-07-06T07:40:41.514336",
     "exception": false,
     "start_time": "2023-07-06T07:40:41.485949",
     "status": "completed"
    },
    "tags": []
   },
   "outputs": [],
   "source": [
    "network.load((14,), serialiser)"
   ]
  },
  {
   "cell_type": "code",
   "execution_count": 23,
   "id": "d8dcab3e",
   "metadata": {
    "execution": {
     "iopub.execute_input": "2023-07-06T07:40:41.548516Z",
     "iopub.status.busy": "2023-07-06T07:40:41.548233Z",
     "iopub.status.idle": "2023-07-06T07:40:41.687120Z",
     "shell.execute_reply": "2023-07-06T07:40:41.685968Z"
    },
    "executionInfo": {
     "elapsed": 7,
     "status": "ok",
     "timestamp": 1686480360423,
     "user": {
      "displayName": "xy fu",
      "userId": "08788996763556351037"
     },
     "user_tz": -480
    },
    "id": "L9UNl7e1Z7lw",
    "papermill": {
     "duration": 0.158019,
     "end_time": "2023-07-06T07:40:41.689421",
     "exception": false,
     "start_time": "2023-07-06T07:40:41.531402",
     "status": "completed"
    },
    "tags": []
   },
   "outputs": [],
   "source": [
    "compiler = InferenceCompiler(evaluate_timesteps=20,\n",
    "                             reset_in_syn_between_batches=True,\n",
    "                             batch_size=BATCH_SIZE)\n",
    "compiled_net = compiler.compile(network)"
   ]
  },
  {
   "cell_type": "code",
   "execution_count": 24,
   "id": "5c2ce735",
   "metadata": {
    "execution": {
     "iopub.execute_input": "2023-07-06T07:40:41.723328Z",
     "iopub.status.busy": "2023-07-06T07:40:41.723044Z",
     "iopub.status.idle": "2023-07-06T07:41:13.354865Z",
     "shell.execute_reply": "2023-07-06T07:41:13.353839Z"
    },
    "id": "FiUdq6WJEA_r",
    "papermill": {
     "duration": 31.67377,
     "end_time": "2023-07-06T07:41:13.379447",
     "exception": false,
     "start_time": "2023-07-06T07:40:41.705677",
     "status": "completed"
    },
    "tags": []
   },
   "outputs": [
    {
     "name": "stderr",
     "output_type": "stream",
     "text": [
      "./InferenceCompiler_CODE/synapseUpdateCUDAOptim.cc(49): warning #177-D: variable \"synBatchOffset\" was declared but never referenced\n",
      "\n",
      "./InferenceCompiler_CODE/synapseUpdateCUDAOptim.cc(49): warning #177-D: variable \"synBatchOffset\" was declared but never referenced\n",
      "\n"
     ]
    },
    {
     "name": "stdout",
     "output_type": "stream",
     "text": [
      "make: Entering directory '/kaggle/working/InferenceCompiler_CODE'\n"
     ]
    },
    {
     "name": "stderr",
     "output_type": "stream",
     "text": [
      "synapseUpdate.cc(49): warning #177-D: variable \"synBatchOffset\" was declared but never referenced\n",
      "\n"
     ]
    },
    {
     "name": "stdout",
     "output_type": "stream",
     "text": [
      "make: Leaving directory '/kaggle/working/InferenceCompiler_CODE'\n"
     ]
    },
    {
     "data": {
      "application/vnd.jupyter.widget-view+json": {
       "model_id": "77e5d95cc03e4b289cffc99b779b6e89",
       "version_major": 2,
       "version_minor": 0
      },
      "text/plain": [
       "  0%|          | 0/1 [00:00<?, ?it/s]"
      ]
     },
     "metadata": {},
     "output_type": "display_data"
    }
   ],
   "source": [
    "test_spikes = linear_latency_encode_data(test_images, 20.0)\n",
    "with compiled_net:\n",
    "    compiled_net.evaluate({input: test_spikes},\n",
    "                          {output:test_labels})"
   ]
  },
  {
   "cell_type": "code",
   "execution_count": 25,
   "id": "e5b84b9b",
   "metadata": {
    "execution": {
     "iopub.execute_input": "2023-07-06T07:41:13.415010Z",
     "iopub.status.busy": "2023-07-06T07:41:13.414164Z",
     "iopub.status.idle": "2023-07-06T07:41:13.420042Z",
     "shell.execute_reply": "2023-07-06T07:41:13.418688Z"
    },
    "papermill": {
     "duration": 0.025979,
     "end_time": "2023-07-06T07:41:13.422304",
     "exception": false,
     "start_time": "2023-07-06T07:41:13.396325",
     "status": "completed"
    },
    "tags": []
   },
   "outputs": [
    {
     "name": "stdout",
     "output_type": "stream",
     "text": [
      "[ 9 16  8 12  6  4 10 13 19  3 14  7  2 18  5 11 17 15  1 20]\n"
     ]
    }
   ],
   "source": [
    "print(test_labels)"
   ]
  },
  {
   "cell_type": "code",
   "execution_count": null,
   "id": "6fa686bf",
   "metadata": {
    "papermill": {
     "duration": 0.016533,
     "end_time": "2023-07-06T07:41:13.455909",
     "exception": false,
     "start_time": "2023-07-06T07:41:13.439376",
     "status": "completed"
    },
    "tags": []
   },
   "outputs": [],
   "source": []
  }
 ],
 "metadata": {
  "kernelspec": {
   "display_name": "Python 3",
   "language": "python",
   "name": "python3"
  },
  "language_info": {
   "codemirror_mode": {
    "name": "ipython",
    "version": 3
   },
   "file_extension": ".py",
   "mimetype": "text/x-python",
   "name": "python",
   "nbconvert_exporter": "python",
   "pygments_lexer": "ipython3",
   "version": "3.10.10"
  },
  "papermill": {
   "default_parameters": {},
   "duration": 169.969264,
   "end_time": "2023-07-06T07:41:14.194583",
   "environment_variables": {},
   "exception": null,
   "input_path": "__notebook__.ipynb",
   "output_path": "__notebook__.ipynb",
   "parameters": {},
   "start_time": "2023-07-06T07:38:24.225319",
   "version": "2.4.0"
  },
  "widgets": {
   "application/vnd.jupyter.widget-state+json": {
    "state": {
     "0605da0f84864fc18b5abb8f55c61f7c": {
      "model_module": "@jupyter-widgets/base",
      "model_module_version": "1.2.0",
      "model_name": "LayoutModel",
      "state": {
       "_model_module": "@jupyter-widgets/base",
       "_model_module_version": "1.2.0",
       "_model_name": "LayoutModel",
       "_view_count": null,
       "_view_module": "@jupyter-widgets/base",
       "_view_module_version": "1.2.0",
       "_view_name": "LayoutView",
       "align_content": null,
       "align_items": null,
       "align_self": null,
       "border": null,
       "bottom": null,
       "display": null,
       "flex": null,
       "flex_flow": null,
       "grid_area": null,
       "grid_auto_columns": null,
       "grid_auto_flow": null,
       "grid_auto_rows": null,
       "grid_column": null,
       "grid_gap": null,
       "grid_row": null,
       "grid_template_areas": null,
       "grid_template_columns": null,
       "grid_template_rows": null,
       "height": null,
       "justify_content": null,
       "justify_items": null,
       "left": null,
       "margin": null,
       "max_height": null,
       "max_width": null,
       "min_height": null,
       "min_width": null,
       "object_fit": null,
       "object_position": null,
       "order": null,
       "overflow": null,
       "overflow_x": null,
       "overflow_y": null,
       "padding": null,
       "right": null,
       "top": null,
       "visibility": null,
       "width": null
      }
     },
     "0877845390c244e9be2f84f91ec2f4f5": {
      "model_module": "@jupyter-widgets/controls",
      "model_module_version": "1.5.0",
      "model_name": "DescriptionStyleModel",
      "state": {
       "_model_module": "@jupyter-widgets/controls",
       "_model_module_version": "1.5.0",
       "_model_name": "DescriptionStyleModel",
       "_view_count": null,
       "_view_module": "@jupyter-widgets/base",
       "_view_module_version": "1.2.0",
       "_view_name": "StyleView",
       "description_width": ""
      }
     },
     "09d3a201fc6940a39a0aab3fd0659ac5": {
      "model_module": "@jupyter-widgets/base",
      "model_module_version": "1.2.0",
      "model_name": "LayoutModel",
      "state": {
       "_model_module": "@jupyter-widgets/base",
       "_model_module_version": "1.2.0",
       "_model_name": "LayoutModel",
       "_view_count": null,
       "_view_module": "@jupyter-widgets/base",
       "_view_module_version": "1.2.0",
       "_view_name": "LayoutView",
       "align_content": null,
       "align_items": null,
       "align_self": null,
       "border": null,
       "bottom": null,
       "display": null,
       "flex": null,
       "flex_flow": null,
       "grid_area": null,
       "grid_auto_columns": null,
       "grid_auto_flow": null,
       "grid_auto_rows": null,
       "grid_column": null,
       "grid_gap": null,
       "grid_row": null,
       "grid_template_areas": null,
       "grid_template_columns": null,
       "grid_template_rows": null,
       "height": null,
       "justify_content": null,
       "justify_items": null,
       "left": null,
       "margin": null,
       "max_height": null,
       "max_width": null,
       "min_height": null,
       "min_width": null,
       "object_fit": null,
       "object_position": null,
       "order": null,
       "overflow": null,
       "overflow_x": null,
       "overflow_y": null,
       "padding": null,
       "right": null,
       "top": null,
       "visibility": null,
       "width": null
      }
     },
     "0b744baea86b4e8bb31ad01c4c849fc6": {
      "model_module": "@jupyter-widgets/controls",
      "model_module_version": "1.5.0",
      "model_name": "HTMLModel",
      "state": {
       "_dom_classes": [],
       "_model_module": "@jupyter-widgets/controls",
       "_model_module_version": "1.5.0",
       "_model_name": "HTMLModel",
       "_view_count": null,
       "_view_module": "@jupyter-widgets/controls",
       "_view_module_version": "1.5.0",
       "_view_name": "HTMLView",
       "description": "",
       "description_tooltip": null,
       "layout": "IPY_MODEL_09d3a201fc6940a39a0aab3fd0659ac5",
       "placeholder": "​",
       "style": "IPY_MODEL_c56ce00c6abc458dbc5a09399740c145",
       "value": " 2/2 [00:00&lt;00:00, 130.25it/s, SparseCategoricalAccuracy: 0.0000]"
      }
     },
     "1b8dae7e02384359a507e0f6812d276c": {
      "model_module": "@jupyter-widgets/controls",
      "model_module_version": "1.5.0",
      "model_name": "HTMLModel",
      "state": {
       "_dom_classes": [],
       "_model_module": "@jupyter-widgets/controls",
       "_model_module_version": "1.5.0",
       "_model_name": "HTMLModel",
       "_view_count": null,
       "_view_module": "@jupyter-widgets/controls",
       "_view_module_version": "1.5.0",
       "_view_name": "HTMLView",
       "description": "",
       "description_tooltip": null,
       "layout": "IPY_MODEL_95acfc861ab346eca520e5501f226dd3",
       "placeholder": "​",
       "style": "IPY_MODEL_9b2e598ff2954e7695d7eecb9cb4bae1",
       "value": " 15/15 [00:00&lt;00:00, 134.20it/s, SparseCategoricalAccuracy: 0.9444]"
      }
     },
     "35cbecb8bd464562a277e7d78d9cfcab": {
      "model_module": "@jupyter-widgets/controls",
      "model_module_version": "1.5.0",
      "model_name": "DescriptionStyleModel",
      "state": {
       "_model_module": "@jupyter-widgets/controls",
       "_model_module_version": "1.5.0",
       "_model_name": "DescriptionStyleModel",
       "_view_count": null,
       "_view_module": "@jupyter-widgets/base",
       "_view_module_version": "1.2.0",
       "_view_name": "StyleView",
       "description_width": ""
      }
     },
     "37b3b88ba12c4f5aa849c267d0e2f587": {
      "model_module": "@jupyter-widgets/controls",
      "model_module_version": "1.5.0",
      "model_name": "DescriptionStyleModel",
      "state": {
       "_model_module": "@jupyter-widgets/controls",
       "_model_module_version": "1.5.0",
       "_model_name": "DescriptionStyleModel",
       "_view_count": null,
       "_view_module": "@jupyter-widgets/base",
       "_view_module_version": "1.2.0",
       "_view_name": "StyleView",
       "description_width": ""
      }
     },
     "38f0f2da33f5489cadeb4d21367c1587": {
      "model_module": "@jupyter-widgets/base",
      "model_module_version": "1.2.0",
      "model_name": "LayoutModel",
      "state": {
       "_model_module": "@jupyter-widgets/base",
       "_model_module_version": "1.2.0",
       "_model_name": "LayoutModel",
       "_view_count": null,
       "_view_module": "@jupyter-widgets/base",
       "_view_module_version": "1.2.0",
       "_view_name": "LayoutView",
       "align_content": null,
       "align_items": null,
       "align_self": null,
       "border": null,
       "bottom": null,
       "display": null,
       "flex": null,
       "flex_flow": null,
       "grid_area": null,
       "grid_auto_columns": null,
       "grid_auto_flow": null,
       "grid_auto_rows": null,
       "grid_column": null,
       "grid_gap": null,
       "grid_row": null,
       "grid_template_areas": null,
       "grid_template_columns": null,
       "grid_template_rows": null,
       "height": null,
       "justify_content": null,
       "justify_items": null,
       "left": null,
       "margin": null,
       "max_height": null,
       "max_width": null,
       "min_height": null,
       "min_width": null,
       "object_fit": null,
       "object_position": null,
       "order": null,
       "overflow": null,
       "overflow_x": null,
       "overflow_y": null,
       "padding": null,
       "right": null,
       "top": null,
       "visibility": null,
       "width": null
      }
     },
     "3d5525847cc244e0bde3b36dc58643d0": {
      "model_module": "@jupyter-widgets/controls",
      "model_module_version": "1.5.0",
      "model_name": "FloatProgressModel",
      "state": {
       "_dom_classes": [],
       "_model_module": "@jupyter-widgets/controls",
       "_model_module_version": "1.5.0",
       "_model_name": "FloatProgressModel",
       "_view_count": null,
       "_view_module": "@jupyter-widgets/controls",
       "_view_module_version": "1.5.0",
       "_view_name": "ProgressView",
       "bar_style": "success",
       "description": "",
       "description_tooltip": null,
       "layout": "IPY_MODEL_4e76699ddbbc46f3b17762907ef2dc0e",
       "max": 1.0,
       "min": 0.0,
       "orientation": "horizontal",
       "style": "IPY_MODEL_f1e8f793add640c9a5e42f58281b1f71",
       "value": 1.0
      }
     },
     "40e90697bc244fe488cb9dc27556c506": {
      "model_module": "@jupyter-widgets/controls",
      "model_module_version": "1.5.0",
      "model_name": "FloatProgressModel",
      "state": {
       "_dom_classes": [],
       "_model_module": "@jupyter-widgets/controls",
       "_model_module_version": "1.5.0",
       "_model_name": "FloatProgressModel",
       "_view_count": null,
       "_view_module": "@jupyter-widgets/controls",
       "_view_module_version": "1.5.0",
       "_view_name": "ProgressView",
       "bar_style": "success",
       "description": "",
       "description_tooltip": null,
       "layout": "IPY_MODEL_f43519e97ca6443f936861b182bfacb2",
       "max": 15.0,
       "min": 0.0,
       "orientation": "horizontal",
       "style": "IPY_MODEL_506cc10fc90b48c4b81931beb6d7bf3b",
       "value": 15.0
      }
     },
     "4e76699ddbbc46f3b17762907ef2dc0e": {
      "model_module": "@jupyter-widgets/base",
      "model_module_version": "1.2.0",
      "model_name": "LayoutModel",
      "state": {
       "_model_module": "@jupyter-widgets/base",
       "_model_module_version": "1.2.0",
       "_model_name": "LayoutModel",
       "_view_count": null,
       "_view_module": "@jupyter-widgets/base",
       "_view_module_version": "1.2.0",
       "_view_name": "LayoutView",
       "align_content": null,
       "align_items": null,
       "align_self": null,
       "border": null,
       "bottom": null,
       "display": null,
       "flex": null,
       "flex_flow": null,
       "grid_area": null,
       "grid_auto_columns": null,
       "grid_auto_flow": null,
       "grid_auto_rows": null,
       "grid_column": null,
       "grid_gap": null,
       "grid_row": null,
       "grid_template_areas": null,
       "grid_template_columns": null,
       "grid_template_rows": null,
       "height": null,
       "justify_content": null,
       "justify_items": null,
       "left": null,
       "margin": null,
       "max_height": null,
       "max_width": null,
       "min_height": null,
       "min_width": null,
       "object_fit": null,
       "object_position": null,
       "order": null,
       "overflow": null,
       "overflow_x": null,
       "overflow_y": null,
       "padding": null,
       "right": null,
       "top": null,
       "visibility": null,
       "width": null
      }
     },
     "506cc10fc90b48c4b81931beb6d7bf3b": {
      "model_module": "@jupyter-widgets/controls",
      "model_module_version": "1.5.0",
      "model_name": "ProgressStyleModel",
      "state": {
       "_model_module": "@jupyter-widgets/controls",
       "_model_module_version": "1.5.0",
       "_model_name": "ProgressStyleModel",
       "_view_count": null,
       "_view_module": "@jupyter-widgets/base",
       "_view_module_version": "1.2.0",
       "_view_name": "StyleView",
       "bar_color": null,
       "description_width": ""
      }
     },
     "55c584520d104742ad2dc6eea43bf6d8": {
      "model_module": "@jupyter-widgets/base",
      "model_module_version": "1.2.0",
      "model_name": "LayoutModel",
      "state": {
       "_model_module": "@jupyter-widgets/base",
       "_model_module_version": "1.2.0",
       "_model_name": "LayoutModel",
       "_view_count": null,
       "_view_module": "@jupyter-widgets/base",
       "_view_module_version": "1.2.0",
       "_view_name": "LayoutView",
       "align_content": null,
       "align_items": null,
       "align_self": null,
       "border": null,
       "bottom": null,
       "display": null,
       "flex": null,
       "flex_flow": null,
       "grid_area": null,
       "grid_auto_columns": null,
       "grid_auto_flow": null,
       "grid_auto_rows": null,
       "grid_column": null,
       "grid_gap": null,
       "grid_row": null,
       "grid_template_areas": null,
       "grid_template_columns": null,
       "grid_template_rows": null,
       "height": null,
       "justify_content": null,
       "justify_items": null,
       "left": null,
       "margin": null,
       "max_height": null,
       "max_width": null,
       "min_height": null,
       "min_width": null,
       "object_fit": null,
       "object_position": null,
       "order": null,
       "overflow": null,
       "overflow_x": null,
       "overflow_y": null,
       "padding": null,
       "right": null,
       "top": null,
       "visibility": null,
       "width": null
      }
     },
     "61eac9304b5e423592a7ae6d9c09adf7": {
      "model_module": "@jupyter-widgets/controls",
      "model_module_version": "1.5.0",
      "model_name": "HBoxModel",
      "state": {
       "_dom_classes": [],
       "_model_module": "@jupyter-widgets/controls",
       "_model_module_version": "1.5.0",
       "_model_name": "HBoxModel",
       "_view_count": null,
       "_view_module": "@jupyter-widgets/controls",
       "_view_module_version": "1.5.0",
       "_view_name": "HBoxView",
       "box_style": "",
       "children": [
        "IPY_MODEL_e190dc9a172d41dc9cad6fc23e495dcd",
        "IPY_MODEL_40e90697bc244fe488cb9dc27556c506",
        "IPY_MODEL_1b8dae7e02384359a507e0f6812d276c"
       ],
       "layout": "IPY_MODEL_62fdd2a06ae54e46a193b3447178551b"
      }
     },
     "62fdd2a06ae54e46a193b3447178551b": {
      "model_module": "@jupyter-widgets/base",
      "model_module_version": "1.2.0",
      "model_name": "LayoutModel",
      "state": {
       "_model_module": "@jupyter-widgets/base",
       "_model_module_version": "1.2.0",
       "_model_name": "LayoutModel",
       "_view_count": null,
       "_view_module": "@jupyter-widgets/base",
       "_view_module_version": "1.2.0",
       "_view_name": "LayoutView",
       "align_content": null,
       "align_items": null,
       "align_self": null,
       "border": null,
       "bottom": null,
       "display": null,
       "flex": null,
       "flex_flow": null,
       "grid_area": null,
       "grid_auto_columns": null,
       "grid_auto_flow": null,
       "grid_auto_rows": null,
       "grid_column": null,
       "grid_gap": null,
       "grid_row": null,
       "grid_template_areas": null,
       "grid_template_columns": null,
       "grid_template_rows": null,
       "height": null,
       "justify_content": null,
       "justify_items": null,
       "left": null,
       "margin": null,
       "max_height": null,
       "max_width": null,
       "min_height": null,
       "min_width": null,
       "object_fit": null,
       "object_position": null,
       "order": null,
       "overflow": null,
       "overflow_x": null,
       "overflow_y": null,
       "padding": null,
       "right": null,
       "top": null,
       "visibility": null,
       "width": null
      }
     },
     "6a794383a6124616a9488e7f31208869": {
      "model_module": "@jupyter-widgets/controls",
      "model_module_version": "1.5.0",
      "model_name": "DescriptionStyleModel",
      "state": {
       "_model_module": "@jupyter-widgets/controls",
       "_model_module_version": "1.5.0",
       "_model_name": "DescriptionStyleModel",
       "_view_count": null,
       "_view_module": "@jupyter-widgets/base",
       "_view_module_version": "1.2.0",
       "_view_name": "StyleView",
       "description_width": ""
      }
     },
     "6dbafd25d1234a26a09b828ea247ca07": {
      "model_module": "@jupyter-widgets/controls",
      "model_module_version": "1.5.0",
      "model_name": "HTMLModel",
      "state": {
       "_dom_classes": [],
       "_model_module": "@jupyter-widgets/controls",
       "_model_module_version": "1.5.0",
       "_model_name": "HTMLModel",
       "_view_count": null,
       "_view_module": "@jupyter-widgets/controls",
       "_view_module_version": "1.5.0",
       "_view_name": "HTMLView",
       "description": "",
       "description_tooltip": null,
       "layout": "IPY_MODEL_38f0f2da33f5489cadeb4d21367c1587",
       "placeholder": "​",
       "style": "IPY_MODEL_37b3b88ba12c4f5aa849c267d0e2f587",
       "value": " 1/1 [00:00&lt;00:00, 207.23it/s, SparseCategoricalAccuracy: 0.2000]"
      }
     },
     "77e5d95cc03e4b289cffc99b779b6e89": {
      "model_module": "@jupyter-widgets/controls",
      "model_module_version": "1.5.0",
      "model_name": "HBoxModel",
      "state": {
       "_dom_classes": [],
       "_model_module": "@jupyter-widgets/controls",
       "_model_module_version": "1.5.0",
       "_model_name": "HBoxModel",
       "_view_count": null,
       "_view_module": "@jupyter-widgets/controls",
       "_view_module_version": "1.5.0",
       "_view_name": "HBoxView",
       "box_style": "",
       "children": [
        "IPY_MODEL_79b77445d4c34daea2bb69c9696be5f5",
        "IPY_MODEL_3d5525847cc244e0bde3b36dc58643d0",
        "IPY_MODEL_6dbafd25d1234a26a09b828ea247ca07"
       ],
       "layout": "IPY_MODEL_0605da0f84864fc18b5abb8f55c61f7c"
      }
     },
     "79b77445d4c34daea2bb69c9696be5f5": {
      "model_module": "@jupyter-widgets/controls",
      "model_module_version": "1.5.0",
      "model_name": "HTMLModel",
      "state": {
       "_dom_classes": [],
       "_model_module": "@jupyter-widgets/controls",
       "_model_module_version": "1.5.0",
       "_model_name": "HTMLModel",
       "_view_count": null,
       "_view_module": "@jupyter-widgets/controls",
       "_view_module_version": "1.5.0",
       "_view_name": "HTMLView",
       "description": "",
       "description_tooltip": null,
       "layout": "IPY_MODEL_a84a0d3b2766472f995825e90117b578",
       "placeholder": "​",
       "style": "IPY_MODEL_0877845390c244e9be2f84f91ec2f4f5",
       "value": "100%"
      }
     },
     "80ec0f9c5e31472c98690c9fb27bd1bd": {
      "model_module": "@jupyter-widgets/controls",
      "model_module_version": "1.5.0",
      "model_name": "ProgressStyleModel",
      "state": {
       "_model_module": "@jupyter-widgets/controls",
       "_model_module_version": "1.5.0",
       "_model_name": "ProgressStyleModel",
       "_view_count": null,
       "_view_module": "@jupyter-widgets/base",
       "_view_module_version": "1.2.0",
       "_view_name": "StyleView",
       "bar_color": null,
       "description_width": ""
      }
     },
     "95acfc861ab346eca520e5501f226dd3": {
      "model_module": "@jupyter-widgets/base",
      "model_module_version": "1.2.0",
      "model_name": "LayoutModel",
      "state": {
       "_model_module": "@jupyter-widgets/base",
       "_model_module_version": "1.2.0",
       "_model_name": "LayoutModel",
       "_view_count": null,
       "_view_module": "@jupyter-widgets/base",
       "_view_module_version": "1.2.0",
       "_view_name": "LayoutView",
       "align_content": null,
       "align_items": null,
       "align_self": null,
       "border": null,
       "bottom": null,
       "display": null,
       "flex": null,
       "flex_flow": null,
       "grid_area": null,
       "grid_auto_columns": null,
       "grid_auto_flow": null,
       "grid_auto_rows": null,
       "grid_column": null,
       "grid_gap": null,
       "grid_row": null,
       "grid_template_areas": null,
       "grid_template_columns": null,
       "grid_template_rows": null,
       "height": null,
       "justify_content": null,
       "justify_items": null,
       "left": null,
       "margin": null,
       "max_height": null,
       "max_width": null,
       "min_height": null,
       "min_width": null,
       "object_fit": null,
       "object_position": null,
       "order": null,
       "overflow": null,
       "overflow_x": null,
       "overflow_y": null,
       "padding": null,
       "right": null,
       "top": null,
       "visibility": null,
       "width": null
      }
     },
     "97d4409a00e34a1b9ba441219900ae22": {
      "model_module": "@jupyter-widgets/controls",
      "model_module_version": "1.5.0",
      "model_name": "FloatProgressModel",
      "state": {
       "_dom_classes": [],
       "_model_module": "@jupyter-widgets/controls",
       "_model_module_version": "1.5.0",
       "_model_name": "FloatProgressModel",
       "_view_count": null,
       "_view_module": "@jupyter-widgets/controls",
       "_view_module_version": "1.5.0",
       "_view_name": "ProgressView",
       "bar_style": "success",
       "description": "",
       "description_tooltip": null,
       "layout": "IPY_MODEL_e247ebdaa0e74bda895c74fdbb528b03",
       "max": 2.0,
       "min": 0.0,
       "orientation": "horizontal",
       "style": "IPY_MODEL_80ec0f9c5e31472c98690c9fb27bd1bd",
       "value": 2.0
      }
     },
     "9b2e598ff2954e7695d7eecb9cb4bae1": {
      "model_module": "@jupyter-widgets/controls",
      "model_module_version": "1.5.0",
      "model_name": "DescriptionStyleModel",
      "state": {
       "_model_module": "@jupyter-widgets/controls",
       "_model_module_version": "1.5.0",
       "_model_name": "DescriptionStyleModel",
       "_view_count": null,
       "_view_module": "@jupyter-widgets/base",
       "_view_module_version": "1.2.0",
       "_view_name": "StyleView",
       "description_width": ""
      }
     },
     "a84a0d3b2766472f995825e90117b578": {
      "model_module": "@jupyter-widgets/base",
      "model_module_version": "1.2.0",
      "model_name": "LayoutModel",
      "state": {
       "_model_module": "@jupyter-widgets/base",
       "_model_module_version": "1.2.0",
       "_model_name": "LayoutModel",
       "_view_count": null,
       "_view_module": "@jupyter-widgets/base",
       "_view_module_version": "1.2.0",
       "_view_name": "LayoutView",
       "align_content": null,
       "align_items": null,
       "align_self": null,
       "border": null,
       "bottom": null,
       "display": null,
       "flex": null,
       "flex_flow": null,
       "grid_area": null,
       "grid_auto_columns": null,
       "grid_auto_flow": null,
       "grid_auto_rows": null,
       "grid_column": null,
       "grid_gap": null,
       "grid_row": null,
       "grid_template_areas": null,
       "grid_template_columns": null,
       "grid_template_rows": null,
       "height": null,
       "justify_content": null,
       "justify_items": null,
       "left": null,
       "margin": null,
       "max_height": null,
       "max_width": null,
       "min_height": null,
       "min_width": null,
       "object_fit": null,
       "object_position": null,
       "order": null,
       "overflow": null,
       "overflow_x": null,
       "overflow_y": null,
       "padding": null,
       "right": null,
       "top": null,
       "visibility": null,
       "width": null
      }
     },
     "b0d8a50e9b06419397f125b6472f08ee": {
      "model_module": "@jupyter-widgets/controls",
      "model_module_version": "1.5.0",
      "model_name": "HTMLModel",
      "state": {
       "_dom_classes": [],
       "_model_module": "@jupyter-widgets/controls",
       "_model_module_version": "1.5.0",
       "_model_name": "HTMLModel",
       "_view_count": null,
       "_view_module": "@jupyter-widgets/controls",
       "_view_module_version": "1.5.0",
       "_view_name": "HTMLView",
       "description": "",
       "description_tooltip": null,
       "layout": "IPY_MODEL_ca02cf89644549e388ffb39a20efbbe1",
       "placeholder": "​",
       "style": "IPY_MODEL_6a794383a6124616a9488e7f31208869",
       "value": "Epoch 39: 100%"
      }
     },
     "b9104c03495b4558bddef38d18606a09": {
      "model_module": "@jupyter-widgets/base",
      "model_module_version": "1.2.0",
      "model_name": "LayoutModel",
      "state": {
       "_model_module": "@jupyter-widgets/base",
       "_model_module_version": "1.2.0",
       "_model_name": "LayoutModel",
       "_view_count": null,
       "_view_module": "@jupyter-widgets/base",
       "_view_module_version": "1.2.0",
       "_view_name": "LayoutView",
       "align_content": null,
       "align_items": null,
       "align_self": null,
       "border": null,
       "bottom": null,
       "display": null,
       "flex": null,
       "flex_flow": null,
       "grid_area": null,
       "grid_auto_columns": null,
       "grid_auto_flow": null,
       "grid_auto_rows": null,
       "grid_column": null,
       "grid_gap": null,
       "grid_row": null,
       "grid_template_areas": null,
       "grid_template_columns": null,
       "grid_template_rows": null,
       "height": null,
       "justify_content": null,
       "justify_items": null,
       "left": null,
       "margin": null,
       "max_height": null,
       "max_width": null,
       "min_height": null,
       "min_width": null,
       "object_fit": null,
       "object_position": null,
       "order": null,
       "overflow": null,
       "overflow_x": null,
       "overflow_y": null,
       "padding": null,
       "right": null,
       "top": null,
       "visibility": null,
       "width": null
      }
     },
     "c56ce00c6abc458dbc5a09399740c145": {
      "model_module": "@jupyter-widgets/controls",
      "model_module_version": "1.5.0",
      "model_name": "DescriptionStyleModel",
      "state": {
       "_model_module": "@jupyter-widgets/controls",
       "_model_module_version": "1.5.0",
       "_model_name": "DescriptionStyleModel",
       "_view_count": null,
       "_view_module": "@jupyter-widgets/base",
       "_view_module_version": "1.2.0",
       "_view_name": "StyleView",
       "description_width": ""
      }
     },
     "ca02cf89644549e388ffb39a20efbbe1": {
      "model_module": "@jupyter-widgets/base",
      "model_module_version": "1.2.0",
      "model_name": "LayoutModel",
      "state": {
       "_model_module": "@jupyter-widgets/base",
       "_model_module_version": "1.2.0",
       "_model_name": "LayoutModel",
       "_view_count": null,
       "_view_module": "@jupyter-widgets/base",
       "_view_module_version": "1.2.0",
       "_view_name": "LayoutView",
       "align_content": null,
       "align_items": null,
       "align_self": null,
       "border": null,
       "bottom": null,
       "display": null,
       "flex": null,
       "flex_flow": null,
       "grid_area": null,
       "grid_auto_columns": null,
       "grid_auto_flow": null,
       "grid_auto_rows": null,
       "grid_column": null,
       "grid_gap": null,
       "grid_row": null,
       "grid_template_areas": null,
       "grid_template_columns": null,
       "grid_template_rows": null,
       "height": null,
       "justify_content": null,
       "justify_items": null,
       "left": null,
       "margin": null,
       "max_height": null,
       "max_width": null,
       "min_height": null,
       "min_width": null,
       "object_fit": null,
       "object_position": null,
       "order": null,
       "overflow": null,
       "overflow_x": null,
       "overflow_y": null,
       "padding": null,
       "right": null,
       "top": null,
       "visibility": null,
       "width": null
      }
     },
     "cf5dcaad63d544959e385bba191c4f1d": {
      "model_module": "@jupyter-widgets/controls",
      "model_module_version": "1.5.0",
      "model_name": "HBoxModel",
      "state": {
       "_dom_classes": [],
       "_model_module": "@jupyter-widgets/controls",
       "_model_module_version": "1.5.0",
       "_model_name": "HBoxModel",
       "_view_count": null,
       "_view_module": "@jupyter-widgets/controls",
       "_view_module_version": "1.5.0",
       "_view_name": "HBoxView",
       "box_style": "",
       "children": [
        "IPY_MODEL_b0d8a50e9b06419397f125b6472f08ee",
        "IPY_MODEL_97d4409a00e34a1b9ba441219900ae22",
        "IPY_MODEL_0b744baea86b4e8bb31ad01c4c849fc6"
       ],
       "layout": "IPY_MODEL_55c584520d104742ad2dc6eea43bf6d8"
      }
     },
     "e190dc9a172d41dc9cad6fc23e495dcd": {
      "model_module": "@jupyter-widgets/controls",
      "model_module_version": "1.5.0",
      "model_name": "HTMLModel",
      "state": {
       "_dom_classes": [],
       "_model_module": "@jupyter-widgets/controls",
       "_model_module_version": "1.5.0",
       "_model_name": "HTMLModel",
       "_view_count": null,
       "_view_module": "@jupyter-widgets/controls",
       "_view_module_version": "1.5.0",
       "_view_name": "HTMLView",
       "description": "",
       "description_tooltip": null,
       "layout": "IPY_MODEL_b9104c03495b4558bddef38d18606a09",
       "placeholder": "​",
       "style": "IPY_MODEL_35cbecb8bd464562a277e7d78d9cfcab",
       "value": "Epoch 39: 100%"
      }
     },
     "e247ebdaa0e74bda895c74fdbb528b03": {
      "model_module": "@jupyter-widgets/base",
      "model_module_version": "1.2.0",
      "model_name": "LayoutModel",
      "state": {
       "_model_module": "@jupyter-widgets/base",
       "_model_module_version": "1.2.0",
       "_model_name": "LayoutModel",
       "_view_count": null,
       "_view_module": "@jupyter-widgets/base",
       "_view_module_version": "1.2.0",
       "_view_name": "LayoutView",
       "align_content": null,
       "align_items": null,
       "align_self": null,
       "border": null,
       "bottom": null,
       "display": null,
       "flex": null,
       "flex_flow": null,
       "grid_area": null,
       "grid_auto_columns": null,
       "grid_auto_flow": null,
       "grid_auto_rows": null,
       "grid_column": null,
       "grid_gap": null,
       "grid_row": null,
       "grid_template_areas": null,
       "grid_template_columns": null,
       "grid_template_rows": null,
       "height": null,
       "justify_content": null,
       "justify_items": null,
       "left": null,
       "margin": null,
       "max_height": null,
       "max_width": null,
       "min_height": null,
       "min_width": null,
       "object_fit": null,
       "object_position": null,
       "order": null,
       "overflow": null,
       "overflow_x": null,
       "overflow_y": null,
       "padding": null,
       "right": null,
       "top": null,
       "visibility": null,
       "width": null
      }
     },
     "f1e8f793add640c9a5e42f58281b1f71": {
      "model_module": "@jupyter-widgets/controls",
      "model_module_version": "1.5.0",
      "model_name": "ProgressStyleModel",
      "state": {
       "_model_module": "@jupyter-widgets/controls",
       "_model_module_version": "1.5.0",
       "_model_name": "ProgressStyleModel",
       "_view_count": null,
       "_view_module": "@jupyter-widgets/base",
       "_view_module_version": "1.2.0",
       "_view_name": "StyleView",
       "bar_color": null,
       "description_width": ""
      }
     },
     "f43519e97ca6443f936861b182bfacb2": {
      "model_module": "@jupyter-widgets/base",
      "model_module_version": "1.2.0",
      "model_name": "LayoutModel",
      "state": {
       "_model_module": "@jupyter-widgets/base",
       "_model_module_version": "1.2.0",
       "_model_name": "LayoutModel",
       "_view_count": null,
       "_view_module": "@jupyter-widgets/base",
       "_view_module_version": "1.2.0",
       "_view_name": "LayoutView",
       "align_content": null,
       "align_items": null,
       "align_self": null,
       "border": null,
       "bottom": null,
       "display": null,
       "flex": null,
       "flex_flow": null,
       "grid_area": null,
       "grid_auto_columns": null,
       "grid_auto_flow": null,
       "grid_auto_rows": null,
       "grid_column": null,
       "grid_gap": null,
       "grid_row": null,
       "grid_template_areas": null,
       "grid_template_columns": null,
       "grid_template_rows": null,
       "height": null,
       "justify_content": null,
       "justify_items": null,
       "left": null,
       "margin": null,
       "max_height": null,
       "max_width": null,
       "min_height": null,
       "min_width": null,
       "object_fit": null,
       "object_position": null,
       "order": null,
       "overflow": null,
       "overflow_x": null,
       "overflow_y": null,
       "padding": null,
       "right": null,
       "top": null,
       "visibility": null,
       "width": null
      }
     }
    },
    "version_major": 2,
    "version_minor": 0
   }
  }
 },
 "nbformat": 4,
 "nbformat_minor": 5
}
